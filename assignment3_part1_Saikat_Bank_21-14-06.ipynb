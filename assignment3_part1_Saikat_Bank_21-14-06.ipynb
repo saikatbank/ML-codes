{
 "cells": [
  {
   "cell_type": "markdown",
   "id": "b5ea3a67",
   "metadata": {},
   "source": [
    "## Using first feature only"
   ]
  },
  {
   "cell_type": "code",
   "execution_count": 1,
   "id": "bd827918",
   "metadata": {},
   "outputs": [],
   "source": [
    "import numpy as np\n",
    "import pandas as pd\n",
    "import matplotlib.pyplot as plt\n",
    "%matplotlib inline"
   ]
  },
  {
   "cell_type": "code",
   "execution_count": 2,
   "id": "cfadcd1f",
   "metadata": {},
   "outputs": [],
   "source": [
    "data=pd.read_csv(r\"C:\\Users\\Saikat\\1st python project from anaconda\\Housepriceprediction.csv\",index_col=0)"
   ]
  },
  {
   "cell_type": "code",
   "execution_count": 3,
   "id": "c092ed55",
   "metadata": {
    "scrolled": true
   },
   "outputs": [
    {
     "data": {
      "text/html": [
       "<div>\n",
       "<style scoped>\n",
       "    .dataframe tbody tr th:only-of-type {\n",
       "        vertical-align: middle;\n",
       "    }\n",
       "\n",
       "    .dataframe tbody tr th {\n",
       "        vertical-align: top;\n",
       "    }\n",
       "\n",
       "    .dataframe thead th {\n",
       "        text-align: right;\n",
       "    }\n",
       "</style>\n",
       "<table border=\"1\" class=\"dataframe\">\n",
       "  <thead>\n",
       "    <tr style=\"text-align: right;\">\n",
       "      <th></th>\n",
       "      <th>LotArea</th>\n",
       "      <th>OverallQual</th>\n",
       "      <th>1stFlrSF</th>\n",
       "      <th>GrLivArea</th>\n",
       "      <th>TotRmsAbvGrd</th>\n",
       "      <th>GarageCars</th>\n",
       "      <th>GarageArea</th>\n",
       "      <th>SalePrice</th>\n",
       "    </tr>\n",
       "    <tr>\n",
       "      <th>Id</th>\n",
       "      <th></th>\n",
       "      <th></th>\n",
       "      <th></th>\n",
       "      <th></th>\n",
       "      <th></th>\n",
       "      <th></th>\n",
       "      <th></th>\n",
       "      <th></th>\n",
       "    </tr>\n",
       "  </thead>\n",
       "  <tbody>\n",
       "    <tr>\n",
       "      <th>1</th>\n",
       "      <td>8450</td>\n",
       "      <td>7</td>\n",
       "      <td>856</td>\n",
       "      <td>1710</td>\n",
       "      <td>8</td>\n",
       "      <td>2</td>\n",
       "      <td>548</td>\n",
       "      <td>208500</td>\n",
       "    </tr>\n",
       "    <tr>\n",
       "      <th>2</th>\n",
       "      <td>9600</td>\n",
       "      <td>6</td>\n",
       "      <td>1262</td>\n",
       "      <td>1262</td>\n",
       "      <td>6</td>\n",
       "      <td>2</td>\n",
       "      <td>460</td>\n",
       "      <td>181500</td>\n",
       "    </tr>\n",
       "    <tr>\n",
       "      <th>3</th>\n",
       "      <td>11250</td>\n",
       "      <td>7</td>\n",
       "      <td>920</td>\n",
       "      <td>1786</td>\n",
       "      <td>6</td>\n",
       "      <td>2</td>\n",
       "      <td>608</td>\n",
       "      <td>223500</td>\n",
       "    </tr>\n",
       "    <tr>\n",
       "      <th>4</th>\n",
       "      <td>9550</td>\n",
       "      <td>7</td>\n",
       "      <td>961</td>\n",
       "      <td>1717</td>\n",
       "      <td>7</td>\n",
       "      <td>3</td>\n",
       "      <td>642</td>\n",
       "      <td>140000</td>\n",
       "    </tr>\n",
       "    <tr>\n",
       "      <th>5</th>\n",
       "      <td>14260</td>\n",
       "      <td>8</td>\n",
       "      <td>1145</td>\n",
       "      <td>2198</td>\n",
       "      <td>9</td>\n",
       "      <td>3</td>\n",
       "      <td>836</td>\n",
       "      <td>250000</td>\n",
       "    </tr>\n",
       "    <tr>\n",
       "      <th>...</th>\n",
       "      <td>...</td>\n",
       "      <td>...</td>\n",
       "      <td>...</td>\n",
       "      <td>...</td>\n",
       "      <td>...</td>\n",
       "      <td>...</td>\n",
       "      <td>...</td>\n",
       "      <td>...</td>\n",
       "    </tr>\n",
       "    <tr>\n",
       "      <th>1456</th>\n",
       "      <td>7917</td>\n",
       "      <td>6</td>\n",
       "      <td>953</td>\n",
       "      <td>1647</td>\n",
       "      <td>7</td>\n",
       "      <td>2</td>\n",
       "      <td>460</td>\n",
       "      <td>175000</td>\n",
       "    </tr>\n",
       "    <tr>\n",
       "      <th>1457</th>\n",
       "      <td>13175</td>\n",
       "      <td>6</td>\n",
       "      <td>2073</td>\n",
       "      <td>2073</td>\n",
       "      <td>7</td>\n",
       "      <td>2</td>\n",
       "      <td>500</td>\n",
       "      <td>210000</td>\n",
       "    </tr>\n",
       "    <tr>\n",
       "      <th>1458</th>\n",
       "      <td>9042</td>\n",
       "      <td>7</td>\n",
       "      <td>1188</td>\n",
       "      <td>2340</td>\n",
       "      <td>9</td>\n",
       "      <td>1</td>\n",
       "      <td>252</td>\n",
       "      <td>266500</td>\n",
       "    </tr>\n",
       "    <tr>\n",
       "      <th>1459</th>\n",
       "      <td>9717</td>\n",
       "      <td>5</td>\n",
       "      <td>1078</td>\n",
       "      <td>1078</td>\n",
       "      <td>5</td>\n",
       "      <td>1</td>\n",
       "      <td>240</td>\n",
       "      <td>142125</td>\n",
       "    </tr>\n",
       "    <tr>\n",
       "      <th>1460</th>\n",
       "      <td>9937</td>\n",
       "      <td>5</td>\n",
       "      <td>1256</td>\n",
       "      <td>1256</td>\n",
       "      <td>6</td>\n",
       "      <td>1</td>\n",
       "      <td>276</td>\n",
       "      <td>147500</td>\n",
       "    </tr>\n",
       "  </tbody>\n",
       "</table>\n",
       "<p>1460 rows × 8 columns</p>\n",
       "</div>"
      ],
      "text/plain": [
       "      LotArea  OverallQual  1stFlrSF  GrLivArea  TotRmsAbvGrd  GarageCars  \\\n",
       "Id                                                                          \n",
       "1        8450            7       856       1710             8           2   \n",
       "2        9600            6      1262       1262             6           2   \n",
       "3       11250            7       920       1786             6           2   \n",
       "4        9550            7       961       1717             7           3   \n",
       "5       14260            8      1145       2198             9           3   \n",
       "...       ...          ...       ...        ...           ...         ...   \n",
       "1456     7917            6       953       1647             7           2   \n",
       "1457    13175            6      2073       2073             7           2   \n",
       "1458     9042            7      1188       2340             9           1   \n",
       "1459     9717            5      1078       1078             5           1   \n",
       "1460     9937            5      1256       1256             6           1   \n",
       "\n",
       "      GarageArea  SalePrice  \n",
       "Id                           \n",
       "1            548     208500  \n",
       "2            460     181500  \n",
       "3            608     223500  \n",
       "4            642     140000  \n",
       "5            836     250000  \n",
       "...          ...        ...  \n",
       "1456         460     175000  \n",
       "1457         500     210000  \n",
       "1458         252     266500  \n",
       "1459         240     142125  \n",
       "1460         276     147500  \n",
       "\n",
       "[1460 rows x 8 columns]"
      ]
     },
     "execution_count": 3,
     "metadata": {},
     "output_type": "execute_result"
    }
   ],
   "source": [
    "data"
   ]
  },
  {
   "cell_type": "code",
   "execution_count": 4,
   "id": "9cbf3876",
   "metadata": {},
   "outputs": [
    {
     "data": {
      "text/html": [
       "<div>\n",
       "<style scoped>\n",
       "    .dataframe tbody tr th:only-of-type {\n",
       "        vertical-align: middle;\n",
       "    }\n",
       "\n",
       "    .dataframe tbody tr th {\n",
       "        vertical-align: top;\n",
       "    }\n",
       "\n",
       "    .dataframe thead th {\n",
       "        text-align: right;\n",
       "    }\n",
       "</style>\n",
       "<table border=\"1\" class=\"dataframe\">\n",
       "  <thead>\n",
       "    <tr style=\"text-align: right;\">\n",
       "      <th></th>\n",
       "      <th>LotArea</th>\n",
       "      <th>OverallQual</th>\n",
       "      <th>1stFlrSF</th>\n",
       "      <th>GrLivArea</th>\n",
       "      <th>TotRmsAbvGrd</th>\n",
       "      <th>GarageCars</th>\n",
       "      <th>GarageArea</th>\n",
       "      <th>SalePrice</th>\n",
       "    </tr>\n",
       "  </thead>\n",
       "  <tbody>\n",
       "    <tr>\n",
       "      <th>LotArea</th>\n",
       "      <td>1.000000</td>\n",
       "      <td>0.105806</td>\n",
       "      <td>0.299475</td>\n",
       "      <td>0.263116</td>\n",
       "      <td>0.190015</td>\n",
       "      <td>0.154871</td>\n",
       "      <td>0.180403</td>\n",
       "      <td>0.263843</td>\n",
       "    </tr>\n",
       "    <tr>\n",
       "      <th>OverallQual</th>\n",
       "      <td>0.105806</td>\n",
       "      <td>1.000000</td>\n",
       "      <td>0.476224</td>\n",
       "      <td>0.593007</td>\n",
       "      <td>0.427452</td>\n",
       "      <td>0.600671</td>\n",
       "      <td>0.562022</td>\n",
       "      <td>0.790982</td>\n",
       "    </tr>\n",
       "    <tr>\n",
       "      <th>1stFlrSF</th>\n",
       "      <td>0.299475</td>\n",
       "      <td>0.476224</td>\n",
       "      <td>1.000000</td>\n",
       "      <td>0.566024</td>\n",
       "      <td>0.409516</td>\n",
       "      <td>0.439317</td>\n",
       "      <td>0.489782</td>\n",
       "      <td>0.605852</td>\n",
       "    </tr>\n",
       "    <tr>\n",
       "      <th>GrLivArea</th>\n",
       "      <td>0.263116</td>\n",
       "      <td>0.593007</td>\n",
       "      <td>0.566024</td>\n",
       "      <td>1.000000</td>\n",
       "      <td>0.825489</td>\n",
       "      <td>0.467247</td>\n",
       "      <td>0.468997</td>\n",
       "      <td>0.708624</td>\n",
       "    </tr>\n",
       "    <tr>\n",
       "      <th>TotRmsAbvGrd</th>\n",
       "      <td>0.190015</td>\n",
       "      <td>0.427452</td>\n",
       "      <td>0.409516</td>\n",
       "      <td>0.825489</td>\n",
       "      <td>1.000000</td>\n",
       "      <td>0.362289</td>\n",
       "      <td>0.337822</td>\n",
       "      <td>0.533723</td>\n",
       "    </tr>\n",
       "    <tr>\n",
       "      <th>GarageCars</th>\n",
       "      <td>0.154871</td>\n",
       "      <td>0.600671</td>\n",
       "      <td>0.439317</td>\n",
       "      <td>0.467247</td>\n",
       "      <td>0.362289</td>\n",
       "      <td>1.000000</td>\n",
       "      <td>0.882475</td>\n",
       "      <td>0.640409</td>\n",
       "    </tr>\n",
       "    <tr>\n",
       "      <th>GarageArea</th>\n",
       "      <td>0.180403</td>\n",
       "      <td>0.562022</td>\n",
       "      <td>0.489782</td>\n",
       "      <td>0.468997</td>\n",
       "      <td>0.337822</td>\n",
       "      <td>0.882475</td>\n",
       "      <td>1.000000</td>\n",
       "      <td>0.623431</td>\n",
       "    </tr>\n",
       "    <tr>\n",
       "      <th>SalePrice</th>\n",
       "      <td>0.263843</td>\n",
       "      <td>0.790982</td>\n",
       "      <td>0.605852</td>\n",
       "      <td>0.708624</td>\n",
       "      <td>0.533723</td>\n",
       "      <td>0.640409</td>\n",
       "      <td>0.623431</td>\n",
       "      <td>1.000000</td>\n",
       "    </tr>\n",
       "  </tbody>\n",
       "</table>\n",
       "</div>"
      ],
      "text/plain": [
       "               LotArea  OverallQual  1stFlrSF  GrLivArea  TotRmsAbvGrd  \\\n",
       "LotArea       1.000000     0.105806  0.299475   0.263116      0.190015   \n",
       "OverallQual   0.105806     1.000000  0.476224   0.593007      0.427452   \n",
       "1stFlrSF      0.299475     0.476224  1.000000   0.566024      0.409516   \n",
       "GrLivArea     0.263116     0.593007  0.566024   1.000000      0.825489   \n",
       "TotRmsAbvGrd  0.190015     0.427452  0.409516   0.825489      1.000000   \n",
       "GarageCars    0.154871     0.600671  0.439317   0.467247      0.362289   \n",
       "GarageArea    0.180403     0.562022  0.489782   0.468997      0.337822   \n",
       "SalePrice     0.263843     0.790982  0.605852   0.708624      0.533723   \n",
       "\n",
       "              GarageCars  GarageArea  SalePrice  \n",
       "LotArea         0.154871    0.180403   0.263843  \n",
       "OverallQual     0.600671    0.562022   0.790982  \n",
       "1stFlrSF        0.439317    0.489782   0.605852  \n",
       "GrLivArea       0.467247    0.468997   0.708624  \n",
       "TotRmsAbvGrd    0.362289    0.337822   0.533723  \n",
       "GarageCars      1.000000    0.882475   0.640409  \n",
       "GarageArea      0.882475    1.000000   0.623431  \n",
       "SalePrice       0.640409    0.623431   1.000000  "
      ]
     },
     "execution_count": 4,
     "metadata": {},
     "output_type": "execute_result"
    }
   ],
   "source": [
    "data.corr()"
   ]
  },
  {
   "cell_type": "markdown",
   "id": "86eb1aa4",
   "metadata": {},
   "source": [
    "## Using first feature, polynomial regression degree 2"
   ]
  },
  {
   "cell_type": "code",
   "execution_count": 5,
   "id": "3a6414dd",
   "metadata": {},
   "outputs": [
    {
     "data": {
      "text/html": [
       "<div>\n",
       "<style scoped>\n",
       "    .dataframe tbody tr th:only-of-type {\n",
       "        vertical-align: middle;\n",
       "    }\n",
       "\n",
       "    .dataframe tbody tr th {\n",
       "        vertical-align: top;\n",
       "    }\n",
       "\n",
       "    .dataframe thead th {\n",
       "        text-align: right;\n",
       "    }\n",
       "</style>\n",
       "<table border=\"1\" class=\"dataframe\">\n",
       "  <thead>\n",
       "    <tr style=\"text-align: right;\">\n",
       "      <th></th>\n",
       "      <th>LotArea</th>\n",
       "      <th>SalePrice</th>\n",
       "    </tr>\n",
       "    <tr>\n",
       "      <th>Id</th>\n",
       "      <th></th>\n",
       "      <th></th>\n",
       "    </tr>\n",
       "  </thead>\n",
       "  <tbody>\n",
       "    <tr>\n",
       "      <th>1</th>\n",
       "      <td>8450</td>\n",
       "      <td>208500</td>\n",
       "    </tr>\n",
       "    <tr>\n",
       "      <th>2</th>\n",
       "      <td>9600</td>\n",
       "      <td>181500</td>\n",
       "    </tr>\n",
       "    <tr>\n",
       "      <th>3</th>\n",
       "      <td>11250</td>\n",
       "      <td>223500</td>\n",
       "    </tr>\n",
       "    <tr>\n",
       "      <th>4</th>\n",
       "      <td>9550</td>\n",
       "      <td>140000</td>\n",
       "    </tr>\n",
       "    <tr>\n",
       "      <th>5</th>\n",
       "      <td>14260</td>\n",
       "      <td>250000</td>\n",
       "    </tr>\n",
       "    <tr>\n",
       "      <th>...</th>\n",
       "      <td>...</td>\n",
       "      <td>...</td>\n",
       "    </tr>\n",
       "    <tr>\n",
       "      <th>1456</th>\n",
       "      <td>7917</td>\n",
       "      <td>175000</td>\n",
       "    </tr>\n",
       "    <tr>\n",
       "      <th>1457</th>\n",
       "      <td>13175</td>\n",
       "      <td>210000</td>\n",
       "    </tr>\n",
       "    <tr>\n",
       "      <th>1458</th>\n",
       "      <td>9042</td>\n",
       "      <td>266500</td>\n",
       "    </tr>\n",
       "    <tr>\n",
       "      <th>1459</th>\n",
       "      <td>9717</td>\n",
       "      <td>142125</td>\n",
       "    </tr>\n",
       "    <tr>\n",
       "      <th>1460</th>\n",
       "      <td>9937</td>\n",
       "      <td>147500</td>\n",
       "    </tr>\n",
       "  </tbody>\n",
       "</table>\n",
       "<p>1460 rows × 2 columns</p>\n",
       "</div>"
      ],
      "text/plain": [
       "      LotArea  SalePrice\n",
       "Id                      \n",
       "1        8450     208500\n",
       "2        9600     181500\n",
       "3       11250     223500\n",
       "4        9550     140000\n",
       "5       14260     250000\n",
       "...       ...        ...\n",
       "1456     7917     175000\n",
       "1457    13175     210000\n",
       "1458     9042     266500\n",
       "1459     9717     142125\n",
       "1460     9937     147500\n",
       "\n",
       "[1460 rows x 2 columns]"
      ]
     },
     "execution_count": 5,
     "metadata": {},
     "output_type": "execute_result"
    }
   ],
   "source": [
    "df=pd.DataFrame()\n",
    "df['LotArea'],df['SalePrice']=data['LotArea'],data['SalePrice']\n",
    "df"
   ]
  },
  {
   "cell_type": "code",
   "execution_count": 6,
   "id": "dbcd83f8",
   "metadata": {},
   "outputs": [
    {
     "data": {
      "text/html": [
       "<div>\n",
       "<style scoped>\n",
       "    .dataframe tbody tr th:only-of-type {\n",
       "        vertical-align: middle;\n",
       "    }\n",
       "\n",
       "    .dataframe tbody tr th {\n",
       "        vertical-align: top;\n",
       "    }\n",
       "\n",
       "    .dataframe thead th {\n",
       "        text-align: right;\n",
       "    }\n",
       "</style>\n",
       "<table border=\"1\" class=\"dataframe\">\n",
       "  <thead>\n",
       "    <tr style=\"text-align: right;\">\n",
       "      <th></th>\n",
       "      <th>LotArea</th>\n",
       "      <th>SalePrice</th>\n",
       "    </tr>\n",
       "  </thead>\n",
       "  <tbody>\n",
       "    <tr>\n",
       "      <th>LotArea</th>\n",
       "      <td>1.000000</td>\n",
       "      <td>0.263843</td>\n",
       "    </tr>\n",
       "    <tr>\n",
       "      <th>SalePrice</th>\n",
       "      <td>0.263843</td>\n",
       "      <td>1.000000</td>\n",
       "    </tr>\n",
       "  </tbody>\n",
       "</table>\n",
       "</div>"
      ],
      "text/plain": [
       "            LotArea  SalePrice\n",
       "LotArea    1.000000   0.263843\n",
       "SalePrice  0.263843   1.000000"
      ]
     },
     "execution_count": 6,
     "metadata": {},
     "output_type": "execute_result"
    }
   ],
   "source": [
    "df.corr()"
   ]
  },
  {
   "cell_type": "code",
   "execution_count": 7,
   "id": "1755c070",
   "metadata": {},
   "outputs": [
    {
     "data": {
      "text/html": [
       "<div>\n",
       "<style scoped>\n",
       "    .dataframe tbody tr th:only-of-type {\n",
       "        vertical-align: middle;\n",
       "    }\n",
       "\n",
       "    .dataframe tbody tr th {\n",
       "        vertical-align: top;\n",
       "    }\n",
       "\n",
       "    .dataframe thead th {\n",
       "        text-align: right;\n",
       "    }\n",
       "</style>\n",
       "<table border=\"1\" class=\"dataframe\">\n",
       "  <thead>\n",
       "    <tr style=\"text-align: right;\">\n",
       "      <th></th>\n",
       "      <th>LotArea</th>\n",
       "    </tr>\n",
       "    <tr>\n",
       "      <th>Id</th>\n",
       "      <th></th>\n",
       "    </tr>\n",
       "  </thead>\n",
       "  <tbody>\n",
       "    <tr>\n",
       "      <th>1270</th>\n",
       "      <td>11344</td>\n",
       "    </tr>\n",
       "    <tr>\n",
       "      <th>870</th>\n",
       "      <td>9938</td>\n",
       "    </tr>\n",
       "    <tr>\n",
       "      <th>252</th>\n",
       "      <td>4750</td>\n",
       "    </tr>\n",
       "    <tr>\n",
       "      <th>877</th>\n",
       "      <td>25286</td>\n",
       "    </tr>\n",
       "    <tr>\n",
       "      <th>396</th>\n",
       "      <td>9571</td>\n",
       "    </tr>\n",
       "    <tr>\n",
       "      <th>...</th>\n",
       "      <td>...</td>\n",
       "    </tr>\n",
       "    <tr>\n",
       "      <th>818</th>\n",
       "      <td>13265</td>\n",
       "    </tr>\n",
       "    <tr>\n",
       "      <th>376</th>\n",
       "      <td>10020</td>\n",
       "    </tr>\n",
       "    <tr>\n",
       "      <th>105</th>\n",
       "      <td>7758</td>\n",
       "    </tr>\n",
       "    <tr>\n",
       "      <th>1343</th>\n",
       "      <td>9375</td>\n",
       "    </tr>\n",
       "    <tr>\n",
       "      <th>1108</th>\n",
       "      <td>23257</td>\n",
       "    </tr>\n",
       "  </tbody>\n",
       "</table>\n",
       "<p>1000 rows × 1 columns</p>\n",
       "</div>"
      ],
      "text/plain": [
       "      LotArea\n",
       "Id           \n",
       "1270    11344\n",
       "870      9938\n",
       "252      4750\n",
       "877     25286\n",
       "396      9571\n",
       "...       ...\n",
       "818     13265\n",
       "376     10020\n",
       "105      7758\n",
       "1343     9375\n",
       "1108    23257\n",
       "\n",
       "[1000 rows x 1 columns]"
      ]
     },
     "execution_count": 7,
     "metadata": {},
     "output_type": "execute_result"
    }
   ],
   "source": [
    "from sklearn.model_selection import train_test_split\n",
    "x_train,x_test,y_train,y_test=train_test_split(df['LotArea'],df['SalePrice'],train_size=1000)\n",
    "x_train_df,x_test_df=pd.DataFrame(x_train),pd.DataFrame(x_test)\n",
    "x_train_df"
   ]
  },
  {
   "cell_type": "code",
   "execution_count": 8,
   "id": "7495ffbe",
   "metadata": {},
   "outputs": [
    {
     "data": {
      "text/plain": [
       "array([[1.00000000e+00, 1.13440000e+04, 1.28686336e+08],\n",
       "       [1.00000000e+00, 9.93800000e+03, 9.87638440e+07],\n",
       "       [1.00000000e+00, 4.75000000e+03, 2.25625000e+07],\n",
       "       ...,\n",
       "       [1.00000000e+00, 7.75800000e+03, 6.01865640e+07],\n",
       "       [1.00000000e+00, 9.37500000e+03, 8.78906250e+07],\n",
       "       [1.00000000e+00, 2.32570000e+04, 5.40888049e+08]])"
      ]
     },
     "execution_count": 8,
     "metadata": {},
     "output_type": "execute_result"
    }
   ],
   "source": [
    "from sklearn.preprocessing import PolynomialFeatures\n",
    "poly=PolynomialFeatures(degree=2)\n",
    "x_train_poly,x_test_poly=poly.fit_transform(x_train_df),poly.fit_transform(x_test_df)\n",
    "x_train_poly"
   ]
  },
  {
   "cell_type": "code",
   "execution_count": 9,
   "id": "e3fc55e0",
   "metadata": {},
   "outputs": [
    {
     "data": {
      "text/html": [
       "<div>\n",
       "<style scoped>\n",
       "    .dataframe tbody tr th:only-of-type {\n",
       "        vertical-align: middle;\n",
       "    }\n",
       "\n",
       "    .dataframe tbody tr th {\n",
       "        vertical-align: top;\n",
       "    }\n",
       "\n",
       "    .dataframe thead th {\n",
       "        text-align: right;\n",
       "    }\n",
       "</style>\n",
       "<table border=\"1\" class=\"dataframe\">\n",
       "  <thead>\n",
       "    <tr style=\"text-align: right;\">\n",
       "      <th></th>\n",
       "      <th>LotArea</th>\n",
       "    </tr>\n",
       "    <tr>\n",
       "      <th>Id</th>\n",
       "      <th></th>\n",
       "    </tr>\n",
       "  </thead>\n",
       "  <tbody>\n",
       "    <tr>\n",
       "      <th>1270</th>\n",
       "      <td>11344</td>\n",
       "    </tr>\n",
       "    <tr>\n",
       "      <th>870</th>\n",
       "      <td>9938</td>\n",
       "    </tr>\n",
       "    <tr>\n",
       "      <th>252</th>\n",
       "      <td>4750</td>\n",
       "    </tr>\n",
       "    <tr>\n",
       "      <th>877</th>\n",
       "      <td>25286</td>\n",
       "    </tr>\n",
       "    <tr>\n",
       "      <th>396</th>\n",
       "      <td>9571</td>\n",
       "    </tr>\n",
       "    <tr>\n",
       "      <th>...</th>\n",
       "      <td>...</td>\n",
       "    </tr>\n",
       "    <tr>\n",
       "      <th>818</th>\n",
       "      <td>13265</td>\n",
       "    </tr>\n",
       "    <tr>\n",
       "      <th>376</th>\n",
       "      <td>10020</td>\n",
       "    </tr>\n",
       "    <tr>\n",
       "      <th>105</th>\n",
       "      <td>7758</td>\n",
       "    </tr>\n",
       "    <tr>\n",
       "      <th>1343</th>\n",
       "      <td>9375</td>\n",
       "    </tr>\n",
       "    <tr>\n",
       "      <th>1108</th>\n",
       "      <td>23257</td>\n",
       "    </tr>\n",
       "  </tbody>\n",
       "</table>\n",
       "<p>1000 rows × 1 columns</p>\n",
       "</div>"
      ],
      "text/plain": [
       "      LotArea\n",
       "Id           \n",
       "1270    11344\n",
       "870      9938\n",
       "252      4750\n",
       "877     25286\n",
       "396      9571\n",
       "...       ...\n",
       "818     13265\n",
       "376     10020\n",
       "105      7758\n",
       "1343     9375\n",
       "1108    23257\n",
       "\n",
       "[1000 rows x 1 columns]"
      ]
     },
     "execution_count": 9,
     "metadata": {},
     "output_type": "execute_result"
    }
   ],
   "source": [
    "x_train_df"
   ]
  },
  {
   "cell_type": "code",
   "execution_count": 10,
   "id": "068e08cf",
   "metadata": {},
   "outputs": [],
   "source": [
    "from sklearn.linear_model import LinearRegression\n",
    "reg=LinearRegression()"
   ]
  },
  {
   "cell_type": "code",
   "execution_count": 11,
   "id": "8950f939",
   "metadata": {},
   "outputs": [],
   "source": [
    "reg.fit(x_train_poly,y_train)\n",
    "coefficient=reg.coef_\n",
    "intercept=reg.intercept_"
   ]
  },
  {
   "cell_type": "code",
   "execution_count": 12,
   "id": "5d745721",
   "metadata": {},
   "outputs": [
    {
     "name": "stdout",
     "output_type": "stream",
     "text": [
      "[ 0.00000000e+00  5.99307124e+00 -3.43602453e-05] 123476.22577809679\n"
     ]
    }
   ],
   "source": [
    "print(coefficient,intercept)"
   ]
  },
  {
   "cell_type": "code",
   "execution_count": 13,
   "id": "e2097ccc",
   "metadata": {},
   "outputs": [
    {
     "data": {
      "image/png": "[encoded data removed]",
      "text/plain": [
       "<Figure size 432x288 with 1 Axes>"
      ]
     },
     "metadata": {
      "needs_background": "light"
     },
     "output_type": "display_data"
    }
   ],
   "source": [
    "x_axis=np.arange(0,150000,0.5)\n",
    "response=intercept + coefficient[1]*x_axis+coefficient[2]*x_axis**2\n",
    "\n",
    "plt.scatter(df['LotArea'],df['SalePrice'],color='b')\n",
    "plt.xlabel('LotArea')\n",
    "plt.ylabel('SalePrice')\n",
    "plt.plot(x_axis,response,color='r')\n",
    "plt.show()"
   ]
  },
  {
   "cell_type": "code",
   "execution_count": 14,
   "id": "039b37aa",
   "metadata": {},
   "outputs": [],
   "source": [
    "y_pred=reg.predict(x_test_poly)"
   ]
  },
  {
   "cell_type": "code",
   "execution_count": 15,
   "id": "ae2a9d2a",
   "metadata": {},
   "outputs": [
    {
     "data": {
      "text/plain": [
       "0.09201666192418545"
      ]
     },
     "execution_count": 15,
     "metadata": {},
     "output_type": "execute_result"
    }
   ],
   "source": [
    "from sklearn.metrics import r2_score\n",
    "r2_score(y_test,y_pred)      # feature is not correlated with target so giving less r2_score"
   ]
  },
  {
   "cell_type": "code",
   "execution_count": 16,
   "id": "d07c0412",
   "metadata": {},
   "outputs": [
    {
     "data": {
      "image/png": "[encoded data removed]",
      "text/plain": [
       "<Figure size 432x288 with 1 Axes>"
      ]
     },
     "metadata": {
      "needs_background": "light"
     },
     "output_type": "display_data"
    }
   ],
   "source": [
    "plt.scatter(y_test,y_pred,color='y')\n",
    "plt.show()"
   ]
  },
  {
   "cell_type": "markdown",
   "id": "1e4d5696",
   "metadata": {},
   "source": [
    "## Using first feature, polynomial regression of degree3"
   ]
  },
  {
   "cell_type": "code",
   "execution_count": 17,
   "id": "aad226a1",
   "metadata": {},
   "outputs": [],
   "source": [
    "poly3=PolynomialFeatures(3)\n",
    "x_train_poly3,x_test_poly3=poly3.fit_transform(x_train_df),poly3.fit_transform(x_test_df)"
   ]
  },
  {
   "cell_type": "code",
   "execution_count": 18,
   "id": "a46aac64",
   "metadata": {},
   "outputs": [],
   "source": [
    "reg2=LinearRegression()\n",
    "reg2.fit(x_train_poly3,y_train)\n",
    "coef_3=reg2.coef_\n",
    "intercept_3=reg.intercept_"
   ]
  },
  {
   "cell_type": "code",
   "execution_count": 19,
   "id": "b4da9615",
   "metadata": {},
   "outputs": [
    {
     "name": "stdout",
     "output_type": "stream",
     "text": [
      "[ 0.00000000e+00  1.00917653e+01 -1.56444947e-04  6.22648204e-10] 123476.22577809679\n"
     ]
    }
   ],
   "source": [
    "print(coef_3,intercept_3)"
   ]
  },
  {
   "cell_type": "code",
   "execution_count": 20,
   "id": "9191ab7d",
   "metadata": {},
   "outputs": [
    {
     "data": {
      "image/png": "[encoded data removed]",
      "text/plain": [
       "<Figure size 432x288 with 1 Axes>"
      ]
     },
     "metadata": {
      "needs_background": "light"
     },
     "output_type": "display_data"
    }
   ],
   "source": [
    "response3=intercept+coef_3[1]*x_axis+coef_3[2]*x_axis**2+coef_3[3]*x_axis**3\n",
    "plt.scatter(df['LotArea'],df['SalePrice'],color='b')\n",
    "plt.plot(x_axis,response3)\n",
    "plt.show()"
   ]
  },
  {
   "cell_type": "code",
   "execution_count": 21,
   "id": "a8a325df",
   "metadata": {},
   "outputs": [],
   "source": [
    "y_pred3=reg2.predict(x_test_poly3)"
   ]
  },
  {
   "cell_type": "code",
   "execution_count": 22,
   "id": "f9c09174",
   "metadata": {},
   "outputs": [
    {
     "data": {
      "text/plain": [
       "-0.011380693083716142"
      ]
     },
     "execution_count": 22,
     "metadata": {},
     "output_type": "execute_result"
    }
   ],
   "source": [
    "r2_score(y_test,y_pred3)"
   ]
  },
  {
   "cell_type": "code",
   "execution_count": 23,
   "id": "6c1cbaff",
   "metadata": {},
   "outputs": [
    {
     "data": {
      "image/png": "[encoded data removed]",
      "text/plain": [
       "<Figure size 432x288 with 1 Axes>"
      ]
     },
     "metadata": {
      "needs_background": "light"
     },
     "output_type": "display_data"
    }
   ],
   "source": [
    "plt.scatter(y_test,y_pred3,color='y')\n",
    "plt.show()"
   ]
  },
  {
   "cell_type": "code",
   "execution_count": null,
   "id": "42ddca51",
   "metadata": {},
   "outputs": [],
   "source": []
  },
  {
   "cell_type": "code",
   "execution_count": null,
   "id": "b62715d5",
   "metadata": {},
   "outputs": [],
   "source": []
  },
  {
   "cell_type": "code",
   "execution_count": null,
   "id": "aa6eac58",
   "metadata": {},
   "outputs": [],
   "source": []
  }
 ],
 "metadata": {
  "kernelspec": {
   "display_name": "Python 3",
   "language": "python",
   "name": "python3"
  },
  "language_info": {
   "codemirror_mode": {
    "name": "ipython",
    "version": 3
   },
   "file_extension": ".py",
   "mimetype": "text/x-python",
   "name": "python",
   "nbconvert_exporter": "python",
   "pygments_lexer": "ipython3",
   "version": "3.8.8"
  }
 },
 "nbformat": 4,
 "nbformat_minor": 5
}
