{
 "cells": [
  {
   "cell_type": "markdown",
   "id": "46f02d44",
   "metadata": {},
   "source": [
    "## Using first two features"
   ]
  },
  {
   "cell_type": "code",
   "execution_count": 1,
   "id": "cb46dc06",
   "metadata": {},
   "outputs": [],
   "source": [
    "import numpy as np\n",
    "import pandas as pd\n",
    "import matplotlib.pyplot as plt\n",
    "%matplotlib inline"
   ]
  },
  {
   "cell_type": "code",
   "execution_count": 2,
   "id": "70bcf7c9",
   "metadata": {},
   "outputs": [],
   "source": [
    "data=pd.read_csv(r\"C:\\Users\\Saikat\\1st python project from anaconda\\Housepriceprediction.csv\",index_col=0)"
   ]
  },
  {
   "cell_type": "code",
   "execution_count": 3,
   "id": "20c8f62c",
   "metadata": {},
   "outputs": [
    {
     "data": {
      "text/html": [
       "<div>\n",
       "<style scoped>\n",
       "    .dataframe tbody tr th:only-of-type {\n",
       "        vertical-align: middle;\n",
       "    }\n",
       "\n",
       "    .dataframe tbody tr th {\n",
       "        vertical-align: top;\n",
       "    }\n",
       "\n",
       "    .dataframe thead th {\n",
       "        text-align: right;\n",
       "    }\n",
       "</style>\n",
       "<table border=\"1\" class=\"dataframe\">\n",
       "  <thead>\n",
       "    <tr style=\"text-align: right;\">\n",
       "      <th></th>\n",
       "      <th>LotArea</th>\n",
       "      <th>OverallQual</th>\n",
       "      <th>1stFlrSF</th>\n",
       "      <th>GrLivArea</th>\n",
       "      <th>TotRmsAbvGrd</th>\n",
       "      <th>GarageCars</th>\n",
       "      <th>GarageArea</th>\n",
       "      <th>SalePrice</th>\n",
       "    </tr>\n",
       "    <tr>\n",
       "      <th>Id</th>\n",
       "      <th></th>\n",
       "      <th></th>\n",
       "      <th></th>\n",
       "      <th></th>\n",
       "      <th></th>\n",
       "      <th></th>\n",
       "      <th></th>\n",
       "      <th></th>\n",
       "    </tr>\n",
       "  </thead>\n",
       "  <tbody>\n",
       "    <tr>\n",
       "      <th>1</th>\n",
       "      <td>8450</td>\n",
       "      <td>7</td>\n",
       "      <td>856</td>\n",
       "      <td>1710</td>\n",
       "      <td>8</td>\n",
       "      <td>2</td>\n",
       "      <td>548</td>\n",
       "      <td>208500</td>\n",
       "    </tr>\n",
       "    <tr>\n",
       "      <th>2</th>\n",
       "      <td>9600</td>\n",
       "      <td>6</td>\n",
       "      <td>1262</td>\n",
       "      <td>1262</td>\n",
       "      <td>6</td>\n",
       "      <td>2</td>\n",
       "      <td>460</td>\n",
       "      <td>181500</td>\n",
       "    </tr>\n",
       "    <tr>\n",
       "      <th>3</th>\n",
       "      <td>11250</td>\n",
       "      <td>7</td>\n",
       "      <td>920</td>\n",
       "      <td>1786</td>\n",
       "      <td>6</td>\n",
       "      <td>2</td>\n",
       "      <td>608</td>\n",
       "      <td>223500</td>\n",
       "    </tr>\n",
       "    <tr>\n",
       "      <th>4</th>\n",
       "      <td>9550</td>\n",
       "      <td>7</td>\n",
       "      <td>961</td>\n",
       "      <td>1717</td>\n",
       "      <td>7</td>\n",
       "      <td>3</td>\n",
       "      <td>642</td>\n",
       "      <td>140000</td>\n",
       "    </tr>\n",
       "    <tr>\n",
       "      <th>5</th>\n",
       "      <td>14260</td>\n",
       "      <td>8</td>\n",
       "      <td>1145</td>\n",
       "      <td>2198</td>\n",
       "      <td>9</td>\n",
       "      <td>3</td>\n",
       "      <td>836</td>\n",
       "      <td>250000</td>\n",
       "    </tr>\n",
       "    <tr>\n",
       "      <th>...</th>\n",
       "      <td>...</td>\n",
       "      <td>...</td>\n",
       "      <td>...</td>\n",
       "      <td>...</td>\n",
       "      <td>...</td>\n",
       "      <td>...</td>\n",
       "      <td>...</td>\n",
       "      <td>...</td>\n",
       "    </tr>\n",
       "    <tr>\n",
       "      <th>1456</th>\n",
       "      <td>7917</td>\n",
       "      <td>6</td>\n",
       "      <td>953</td>\n",
       "      <td>1647</td>\n",
       "      <td>7</td>\n",
       "      <td>2</td>\n",
       "      <td>460</td>\n",
       "      <td>175000</td>\n",
       "    </tr>\n",
       "    <tr>\n",
       "      <th>1457</th>\n",
       "      <td>13175</td>\n",
       "      <td>6</td>\n",
       "      <td>2073</td>\n",
       "      <td>2073</td>\n",
       "      <td>7</td>\n",
       "      <td>2</td>\n",
       "      <td>500</td>\n",
       "      <td>210000</td>\n",
       "    </tr>\n",
       "    <tr>\n",
       "      <th>1458</th>\n",
       "      <td>9042</td>\n",
       "      <td>7</td>\n",
       "      <td>1188</td>\n",
       "      <td>2340</td>\n",
       "      <td>9</td>\n",
       "      <td>1</td>\n",
       "      <td>252</td>\n",
       "      <td>266500</td>\n",
       "    </tr>\n",
       "    <tr>\n",
       "      <th>1459</th>\n",
       "      <td>9717</td>\n",
       "      <td>5</td>\n",
       "      <td>1078</td>\n",
       "      <td>1078</td>\n",
       "      <td>5</td>\n",
       "      <td>1</td>\n",
       "      <td>240</td>\n",
       "      <td>142125</td>\n",
       "    </tr>\n",
       "    <tr>\n",
       "      <th>1460</th>\n",
       "      <td>9937</td>\n",
       "      <td>5</td>\n",
       "      <td>1256</td>\n",
       "      <td>1256</td>\n",
       "      <td>6</td>\n",
       "      <td>1</td>\n",
       "      <td>276</td>\n",
       "      <td>147500</td>\n",
       "    </tr>\n",
       "  </tbody>\n",
       "</table>\n",
       "<p>1460 rows × 8 columns</p>\n",
       "</div>"
      ],
      "text/plain": [
       "      LotArea  OverallQual  1stFlrSF  GrLivArea  TotRmsAbvGrd  GarageCars  \\\n",
       "Id                                                                          \n",
       "1        8450            7       856       1710             8           2   \n",
       "2        9600            6      1262       1262             6           2   \n",
       "3       11250            7       920       1786             6           2   \n",
       "4        9550            7       961       1717             7           3   \n",
       "5       14260            8      1145       2198             9           3   \n",
       "...       ...          ...       ...        ...           ...         ...   \n",
       "1456     7917            6       953       1647             7           2   \n",
       "1457    13175            6      2073       2073             7           2   \n",
       "1458     9042            7      1188       2340             9           1   \n",
       "1459     9717            5      1078       1078             5           1   \n",
       "1460     9937            5      1256       1256             6           1   \n",
       "\n",
       "      GarageArea  SalePrice  \n",
       "Id                           \n",
       "1            548     208500  \n",
       "2            460     181500  \n",
       "3            608     223500  \n",
       "4            642     140000  \n",
       "5            836     250000  \n",
       "...          ...        ...  \n",
       "1456         460     175000  \n",
       "1457         500     210000  \n",
       "1458         252     266500  \n",
       "1459         240     142125  \n",
       "1460         276     147500  \n",
       "\n",
       "[1460 rows x 8 columns]"
      ]
     },
     "execution_count": 3,
     "metadata": {},
     "output_type": "execute_result"
    }
   ],
   "source": [
    "data"
   ]
  },
  {
   "cell_type": "code",
   "execution_count": 4,
   "id": "4ea6128e",
   "metadata": {},
   "outputs": [
    {
     "data": {
      "text/html": [
       "<div>\n",
       "<style scoped>\n",
       "    .dataframe tbody tr th:only-of-type {\n",
       "        vertical-align: middle;\n",
       "    }\n",
       "\n",
       "    .dataframe tbody tr th {\n",
       "        vertical-align: top;\n",
       "    }\n",
       "\n",
       "    .dataframe thead th {\n",
       "        text-align: right;\n",
       "    }\n",
       "</style>\n",
       "<table border=\"1\" class=\"dataframe\">\n",
       "  <thead>\n",
       "    <tr style=\"text-align: right;\">\n",
       "      <th></th>\n",
       "      <th>LotArea</th>\n",
       "      <th>OverallQual</th>\n",
       "      <th>1stFlrSF</th>\n",
       "      <th>GrLivArea</th>\n",
       "      <th>TotRmsAbvGrd</th>\n",
       "      <th>GarageCars</th>\n",
       "      <th>GarageArea</th>\n",
       "      <th>SalePrice</th>\n",
       "    </tr>\n",
       "  </thead>\n",
       "  <tbody>\n",
       "    <tr>\n",
       "      <th>LotArea</th>\n",
       "      <td>1.000000</td>\n",
       "      <td>0.105806</td>\n",
       "      <td>0.299475</td>\n",
       "      <td>0.263116</td>\n",
       "      <td>0.190015</td>\n",
       "      <td>0.154871</td>\n",
       "      <td>0.180403</td>\n",
       "      <td>0.263843</td>\n",
       "    </tr>\n",
       "    <tr>\n",
       "      <th>OverallQual</th>\n",
       "      <td>0.105806</td>\n",
       "      <td>1.000000</td>\n",
       "      <td>0.476224</td>\n",
       "      <td>0.593007</td>\n",
       "      <td>0.427452</td>\n",
       "      <td>0.600671</td>\n",
       "      <td>0.562022</td>\n",
       "      <td>0.790982</td>\n",
       "    </tr>\n",
       "    <tr>\n",
       "      <th>1stFlrSF</th>\n",
       "      <td>0.299475</td>\n",
       "      <td>0.476224</td>\n",
       "      <td>1.000000</td>\n",
       "      <td>0.566024</td>\n",
       "      <td>0.409516</td>\n",
       "      <td>0.439317</td>\n",
       "      <td>0.489782</td>\n",
       "      <td>0.605852</td>\n",
       "    </tr>\n",
       "    <tr>\n",
       "      <th>GrLivArea</th>\n",
       "      <td>0.263116</td>\n",
       "      <td>0.593007</td>\n",
       "      <td>0.566024</td>\n",
       "      <td>1.000000</td>\n",
       "      <td>0.825489</td>\n",
       "      <td>0.467247</td>\n",
       "      <td>0.468997</td>\n",
       "      <td>0.708624</td>\n",
       "    </tr>\n",
       "    <tr>\n",
       "      <th>TotRmsAbvGrd</th>\n",
       "      <td>0.190015</td>\n",
       "      <td>0.427452</td>\n",
       "      <td>0.409516</td>\n",
       "      <td>0.825489</td>\n",
       "      <td>1.000000</td>\n",
       "      <td>0.362289</td>\n",
       "      <td>0.337822</td>\n",
       "      <td>0.533723</td>\n",
       "    </tr>\n",
       "    <tr>\n",
       "      <th>GarageCars</th>\n",
       "      <td>0.154871</td>\n",
       "      <td>0.600671</td>\n",
       "      <td>0.439317</td>\n",
       "      <td>0.467247</td>\n",
       "      <td>0.362289</td>\n",
       "      <td>1.000000</td>\n",
       "      <td>0.882475</td>\n",
       "      <td>0.640409</td>\n",
       "    </tr>\n",
       "    <tr>\n",
       "      <th>GarageArea</th>\n",
       "      <td>0.180403</td>\n",
       "      <td>0.562022</td>\n",
       "      <td>0.489782</td>\n",
       "      <td>0.468997</td>\n",
       "      <td>0.337822</td>\n",
       "      <td>0.882475</td>\n",
       "      <td>1.000000</td>\n",
       "      <td>0.623431</td>\n",
       "    </tr>\n",
       "    <tr>\n",
       "      <th>SalePrice</th>\n",
       "      <td>0.263843</td>\n",
       "      <td>0.790982</td>\n",
       "      <td>0.605852</td>\n",
       "      <td>0.708624</td>\n",
       "      <td>0.533723</td>\n",
       "      <td>0.640409</td>\n",
       "      <td>0.623431</td>\n",
       "      <td>1.000000</td>\n",
       "    </tr>\n",
       "  </tbody>\n",
       "</table>\n",
       "</div>"
      ],
      "text/plain": [
       "               LotArea  OverallQual  1stFlrSF  GrLivArea  TotRmsAbvGrd  \\\n",
       "LotArea       1.000000     0.105806  0.299475   0.263116      0.190015   \n",
       "OverallQual   0.105806     1.000000  0.476224   0.593007      0.427452   \n",
       "1stFlrSF      0.299475     0.476224  1.000000   0.566024      0.409516   \n",
       "GrLivArea     0.263116     0.593007  0.566024   1.000000      0.825489   \n",
       "TotRmsAbvGrd  0.190015     0.427452  0.409516   0.825489      1.000000   \n",
       "GarageCars    0.154871     0.600671  0.439317   0.467247      0.362289   \n",
       "GarageArea    0.180403     0.562022  0.489782   0.468997      0.337822   \n",
       "SalePrice     0.263843     0.790982  0.605852   0.708624      0.533723   \n",
       "\n",
       "              GarageCars  GarageArea  SalePrice  \n",
       "LotArea         0.154871    0.180403   0.263843  \n",
       "OverallQual     0.600671    0.562022   0.790982  \n",
       "1stFlrSF        0.439317    0.489782   0.605852  \n",
       "GrLivArea       0.467247    0.468997   0.708624  \n",
       "TotRmsAbvGrd    0.362289    0.337822   0.533723  \n",
       "GarageCars      1.000000    0.882475   0.640409  \n",
       "GarageArea      0.882475    1.000000   0.623431  \n",
       "SalePrice       0.640409    0.623431   1.000000  "
      ]
     },
     "execution_count": 4,
     "metadata": {},
     "output_type": "execute_result"
    }
   ],
   "source": [
    "data.corr()"
   ]
  },
  {
   "cell_type": "code",
   "execution_count": 5,
   "id": "b7c29844",
   "metadata": {},
   "outputs": [],
   "source": [
    "df=pd.DataFrame()\n",
    "df['LotArea'],df['OverallQual'],df['SalePrice']=data['LotArea'],data['OverallQual'],data['SalePrice']"
   ]
  },
  {
   "cell_type": "code",
   "execution_count": 6,
   "id": "363983b0",
   "metadata": {},
   "outputs": [
    {
     "data": {
      "text/html": [
       "<div>\n",
       "<style scoped>\n",
       "    .dataframe tbody tr th:only-of-type {\n",
       "        vertical-align: middle;\n",
       "    }\n",
       "\n",
       "    .dataframe tbody tr th {\n",
       "        vertical-align: top;\n",
       "    }\n",
       "\n",
       "    .dataframe thead th {\n",
       "        text-align: right;\n",
       "    }\n",
       "</style>\n",
       "<table border=\"1\" class=\"dataframe\">\n",
       "  <thead>\n",
       "    <tr style=\"text-align: right;\">\n",
       "      <th></th>\n",
       "      <th>LotArea</th>\n",
       "      <th>OverallQual</th>\n",
       "      <th>SalePrice</th>\n",
       "    </tr>\n",
       "    <tr>\n",
       "      <th>Id</th>\n",
       "      <th></th>\n",
       "      <th></th>\n",
       "      <th></th>\n",
       "    </tr>\n",
       "  </thead>\n",
       "  <tbody>\n",
       "    <tr>\n",
       "      <th>1</th>\n",
       "      <td>8450</td>\n",
       "      <td>7</td>\n",
       "      <td>208500</td>\n",
       "    </tr>\n",
       "    <tr>\n",
       "      <th>2</th>\n",
       "      <td>9600</td>\n",
       "      <td>6</td>\n",
       "      <td>181500</td>\n",
       "    </tr>\n",
       "    <tr>\n",
       "      <th>3</th>\n",
       "      <td>11250</td>\n",
       "      <td>7</td>\n",
       "      <td>223500</td>\n",
       "    </tr>\n",
       "    <tr>\n",
       "      <th>4</th>\n",
       "      <td>9550</td>\n",
       "      <td>7</td>\n",
       "      <td>140000</td>\n",
       "    </tr>\n",
       "    <tr>\n",
       "      <th>5</th>\n",
       "      <td>14260</td>\n",
       "      <td>8</td>\n",
       "      <td>250000</td>\n",
       "    </tr>\n",
       "    <tr>\n",
       "      <th>...</th>\n",
       "      <td>...</td>\n",
       "      <td>...</td>\n",
       "      <td>...</td>\n",
       "    </tr>\n",
       "    <tr>\n",
       "      <th>1456</th>\n",
       "      <td>7917</td>\n",
       "      <td>6</td>\n",
       "      <td>175000</td>\n",
       "    </tr>\n",
       "    <tr>\n",
       "      <th>1457</th>\n",
       "      <td>13175</td>\n",
       "      <td>6</td>\n",
       "      <td>210000</td>\n",
       "    </tr>\n",
       "    <tr>\n",
       "      <th>1458</th>\n",
       "      <td>9042</td>\n",
       "      <td>7</td>\n",
       "      <td>266500</td>\n",
       "    </tr>\n",
       "    <tr>\n",
       "      <th>1459</th>\n",
       "      <td>9717</td>\n",
       "      <td>5</td>\n",
       "      <td>142125</td>\n",
       "    </tr>\n",
       "    <tr>\n",
       "      <th>1460</th>\n",
       "      <td>9937</td>\n",
       "      <td>5</td>\n",
       "      <td>147500</td>\n",
       "    </tr>\n",
       "  </tbody>\n",
       "</table>\n",
       "<p>1460 rows × 3 columns</p>\n",
       "</div>"
      ],
      "text/plain": [
       "      LotArea  OverallQual  SalePrice\n",
       "Id                                   \n",
       "1        8450            7     208500\n",
       "2        9600            6     181500\n",
       "3       11250            7     223500\n",
       "4        9550            7     140000\n",
       "5       14260            8     250000\n",
       "...       ...          ...        ...\n",
       "1456     7917            6     175000\n",
       "1457    13175            6     210000\n",
       "1458     9042            7     266500\n",
       "1459     9717            5     142125\n",
       "1460     9937            5     147500\n",
       "\n",
       "[1460 rows x 3 columns]"
      ]
     },
     "execution_count": 6,
     "metadata": {},
     "output_type": "execute_result"
    }
   ],
   "source": [
    "df"
   ]
  },
  {
   "cell_type": "code",
   "execution_count": 7,
   "id": "e2dce3a4",
   "metadata": {},
   "outputs": [
    {
     "name": "stdout",
     "output_type": "stream",
     "text": [
      "      LotArea  OverallQual\n",
      "Id                        \n",
      "1166     9541            7\n",
      "117     11616            5\n",
      "1296     8400            5\n",
      "601     10927            8\n",
      "1134     9828            8\n",
      "...       ...          ...\n",
      "581     14585            6\n",
      "777     11210            7\n",
      "884      6204            4\n",
      "199      5520            6\n",
      "1435    17400            5\n",
      "\n",
      "[1000 rows x 2 columns] <class 'pandas.core.frame.DataFrame'>\n",
      "      SalePrice\n",
      "Id             \n",
      "1166     233170\n",
      "117      139000\n",
      "1296     138500\n",
      "601      275000\n",
      "1134     239500\n",
      "...         ...\n",
      "581      181900\n",
      "777      221500\n",
      "884      118500\n",
      "199      104000\n",
      "1435     160000\n",
      "\n",
      "[1000 rows x 1 columns] <class 'pandas.core.frame.DataFrame'>\n"
     ]
    }
   ],
   "source": [
    "from sklearn.model_selection import train_test_split\n",
    "x_train,x_test,y_train,y_test=train_test_split(df.iloc[:,[0,1]],df.iloc[:,[2]],train_size=1000)\n",
    "print(x_train,type(x_train))\n",
    "print(y_train,type(y_train))"
   ]
  },
  {
   "cell_type": "markdown",
   "id": "a26ee843",
   "metadata": {},
   "source": [
    "## Polynomial Regression of degree 2"
   ]
  },
  {
   "cell_type": "code",
   "execution_count": 8,
   "id": "329ef669",
   "metadata": {},
   "outputs": [
    {
     "name": "stdout",
     "output_type": "stream",
     "text": [
      "      LotArea  OverallQual\n",
      "Id                        \n",
      "1166     9541            7\n",
      "117     11616            5\n",
      "1296     8400            5\n",
      "601     10927            8\n",
      "1134     9828            8\n",
      "...       ...          ...\n",
      "581     14585            6\n",
      "777     11210            7\n",
      "884      6204            4\n",
      "199      5520            6\n",
      "1435    17400            5\n",
      "\n",
      "[1000 rows x 2 columns]\n"
     ]
    },
    {
     "data": {
      "text/plain": [
       "array([[1.00000000e+00, 9.54100000e+03, 7.00000000e+00, 9.10306810e+07,\n",
       "        6.67870000e+04, 4.90000000e+01],\n",
       "       [1.00000000e+00, 1.16160000e+04, 5.00000000e+00, 1.34931456e+08,\n",
       "        5.80800000e+04, 2.50000000e+01],\n",
       "       [1.00000000e+00, 8.40000000e+03, 5.00000000e+00, 7.05600000e+07,\n",
       "        4.20000000e+04, 2.50000000e+01],\n",
       "       ...,\n",
       "       [1.00000000e+00, 6.20400000e+03, 4.00000000e+00, 3.84896160e+07,\n",
       "        2.48160000e+04, 1.60000000e+01],\n",
       "       [1.00000000e+00, 5.52000000e+03, 6.00000000e+00, 3.04704000e+07,\n",
       "        3.31200000e+04, 3.60000000e+01],\n",
       "       [1.00000000e+00, 1.74000000e+04, 5.00000000e+00, 3.02760000e+08,\n",
       "        8.70000000e+04, 2.50000000e+01]])"
      ]
     },
     "execution_count": 8,
     "metadata": {},
     "output_type": "execute_result"
    }
   ],
   "source": [
    "from sklearn.preprocessing import PolynomialFeatures\n",
    "poly_2=PolynomialFeatures(2)\n",
    "x_train_poly_2,x_test_poly_2=poly_2.fit_transform(x_train),poly_2.fit_transform(x_test)\n",
    "print(x_train)\n",
    "x_train_poly_2"
   ]
  },
  {
   "cell_type": "code",
   "execution_count": 9,
   "id": "ce164319",
   "metadata": {},
   "outputs": [],
   "source": [
    "from sklearn.linear_model import LinearRegression\n",
    "reg_2=LinearRegression()\n",
    "reg_2.fit(x_train_poly_2,y_train)\n",
    "coef_2=reg_2.coef_\n",
    "intercept_2=reg_2.intercept_"
   ]
  },
  {
   "cell_type": "code",
   "execution_count": 10,
   "id": "75be7766",
   "metadata": {},
   "outputs": [
    {
     "name": "stdout",
     "output_type": "stream",
     "text": [
      "[[ 0.00000000e+00  4.32350841e+00 -3.34453033e+04 -1.24023118e-05\n",
      "  -1.81107846e-01  6.34559241e+03]]\n",
      "[105151.29610119]\n"
     ]
    }
   ],
   "source": [
    "print(coef_2)\n",
    "print(intercept_2)"
   ]
  },
  {
   "cell_type": "code",
   "execution_count": 11,
   "id": "be877dcb",
   "metadata": {},
   "outputs": [],
   "source": [
    "y_pred=reg_2.predict(x_test_poly_2)"
   ]
  },
  {
   "cell_type": "code",
   "execution_count": 12,
   "id": "e21a9581",
   "metadata": {},
   "outputs": [
    {
     "data": {
      "text/plain": [
       "0.7006000686979312"
      ]
     },
     "execution_count": 12,
     "metadata": {},
     "output_type": "execute_result"
    }
   ],
   "source": [
    "from sklearn.metrics import r2_score\n",
    "r2_score(y_test,y_pred)"
   ]
  },
  {
   "cell_type": "code",
   "execution_count": 13,
   "id": "af9b9049",
   "metadata": {},
   "outputs": [
    {
     "data": {
      "image/png": "[encoded data removed]",
      "text/plain": [
       "<Figure size 1080x504 with 1 Axes>"
      ]
     },
     "metadata": {
      "needs_background": "light"
     },
     "output_type": "display_data"
    }
   ],
   "source": [
    "plt.figure(figsize=(15,7))\n",
    "plt.scatter(y_test,y_pred,color='r')\n",
    "plt.xlabel('Actual')\n",
    "plt.ylabel('Predicted')\n",
    "plt.title('Actual vs Predicted for 2 degree Polynomial Regression')\n",
    "plt.show()"
   ]
  },
  {
   "cell_type": "markdown",
   "id": "36808796",
   "metadata": {},
   "source": [
    "## Polynomial regression of degree 3"
   ]
  },
  {
   "cell_type": "code",
   "execution_count": 14,
   "id": "06584439",
   "metadata": {},
   "outputs": [],
   "source": [
    "poly_3=PolynomialFeatures(3)"
   ]
  },
  {
   "cell_type": "code",
   "execution_count": 15,
   "id": "bcd9f5c7",
   "metadata": {},
   "outputs": [
    {
     "name": "stdout",
     "output_type": "stream",
     "text": [
      "[[1.00000000e+00 9.54100000e+03 7.00000000e+00 ... 6.37214767e+08\n",
      "  4.67509000e+05 3.43000000e+02]\n",
      " [1.00000000e+00 1.16160000e+04 5.00000000e+00 ... 6.74657280e+08\n",
      "  2.90400000e+05 1.25000000e+02]\n",
      " [1.00000000e+00 8.40000000e+03 5.00000000e+00 ... 3.52800000e+08\n",
      "  2.10000000e+05 1.25000000e+02]\n",
      " ...\n",
      " [1.00000000e+00 6.20400000e+03 4.00000000e+00 ... 1.53958464e+08\n",
      "  9.92640000e+04 6.40000000e+01]\n",
      " [1.00000000e+00 5.52000000e+03 6.00000000e+00 ... 1.82822400e+08\n",
      "  1.98720000e+05 2.16000000e+02]\n",
      " [1.00000000e+00 1.74000000e+04 5.00000000e+00 ... 1.51380000e+09\n",
      "  4.35000000e+05 1.25000000e+02]]\n"
     ]
    }
   ],
   "source": [
    "x_train_poly_3,x_test_poly_3=poly_3.fit_transform(x_train),poly_3.fit_transform(x_test)\n",
    "print(x_train_poly_3)"
   ]
  },
  {
   "cell_type": "code",
   "execution_count": 16,
   "id": "50034691",
   "metadata": {},
   "outputs": [],
   "source": [
    "reg_3=LinearRegression()\n",
    "reg_3.fit(x_train_poly_3,y_train)\n",
    "coef_3=reg_3.coef_\n",
    "intercept_3=reg_3.intercept_"
   ]
  },
  {
   "cell_type": "code",
   "execution_count": 17,
   "id": "becfb283",
   "metadata": {},
   "outputs": [
    {
     "name": "stdout",
     "output_type": "stream",
     "text": [
      "[[ 0.00000000e+00 -1.37567233e+01 -9.02154315e+02 -3.11027004e-05\n",
      "   5.93116576e+00 -5.58858413e+03  3.09994613e-10 -9.43827729e-06\n",
      "  -4.11462314e-01  8.82302637e+02]] [120081.91494363]\n"
     ]
    }
   ],
   "source": [
    "print(coef_3,intercept_3)"
   ]
  },
  {
   "cell_type": "code",
   "execution_count": 18,
   "id": "c327e66c",
   "metadata": {},
   "outputs": [],
   "source": [
    "y_pred_3=reg_3.predict(x_test_poly_3)"
   ]
  },
  {
   "cell_type": "code",
   "execution_count": 19,
   "id": "32a4db41",
   "metadata": {},
   "outputs": [
    {
     "data": {
      "text/plain": [
       "0.7113610573481841"
      ]
     },
     "execution_count": 19,
     "metadata": {},
     "output_type": "execute_result"
    }
   ],
   "source": [
    "r2_score(y_test,y_pred_3)"
   ]
  },
  {
   "cell_type": "code",
   "execution_count": 20,
   "id": "be15a537",
   "metadata": {},
   "outputs": [
    {
     "data": {
      "image/png": "[encoded data removed]",
      "text/plain": [
       "<Figure size 1080x504 with 1 Axes>"
      ]
     },
     "metadata": {
      "needs_background": "light"
     },
     "output_type": "display_data"
    }
   ],
   "source": [
    "plt.figure(figsize=(15,7))\n",
    "plt.scatter(y_test,y_pred_3,color='b')\n",
    "plt.xlabel('Actual')\n",
    "plt.ylabel('Predicted')\n",
    "plt.title('Actual vs Predicted for 3 degree Polynomial Regression')\n",
    "plt.show()"
   ]
  },
  {
   "cell_type": "code",
   "execution_count": null,
   "id": "b33b25c6",
   "metadata": {},
   "outputs": [],
   "source": []
  },
  {
   "cell_type": "code",
   "execution_count": null,
   "id": "9922ef00",
   "metadata": {},
   "outputs": [],
   "source": []
  },
  {
   "cell_type": "code",
   "execution_count": null,
   "id": "7c86f5bc",
   "metadata": {},
   "outputs": [],
   "source": []
  },
  {
   "cell_type": "code",
   "execution_count": null,
   "id": "80253edd",
   "metadata": {},
   "outputs": [],
   "source": []
  },
  {
   "cell_type": "code",
   "execution_count": null,
   "id": "255f2aca",
   "metadata": {},
   "outputs": [],
   "source": []
  },
  {
   "cell_type": "code",
   "execution_count": null,
   "id": "454a4efe",
   "metadata": {},
   "outputs": [],
   "source": []
  }
 ],
 "metadata": {
  "kernelspec": {
   "display_name": "Python 3",
   "language": "python",
   "name": "python3"
  },
  "language_info": {
   "codemirror_mode": {
    "name": "ipython",
    "version": 3
   },
   "file_extension": ".py",
   "mimetype": "text/x-python",
   "name": "python",
   "nbconvert_exporter": "python",
   "pygments_lexer": "ipython3",
   "version": "3.8.8"
  }
 },
 "nbformat": 4,
 "nbformat_minor": 5
}
