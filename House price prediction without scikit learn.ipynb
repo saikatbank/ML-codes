{
 "cells": [
  {
   "cell_type": "code",
   "execution_count": 1,
   "id": "c520598c",
   "metadata": {},
   "outputs": [],
   "source": [
    "import numpy as np\n",
    "import pandas as pd\n",
    "import matplotlib.pyplot as plt\n",
    "%matplotlib inline"
   ]
  },
  {
   "cell_type": "code",
   "execution_count": 2,
   "id": "883823f3",
   "metadata": {},
   "outputs": [],
   "source": [
    "data=pd.read_csv(r\"C:\\Users\\Saikat\\1st python project from anaconda\\Housepriceprediction.csv\")"
   ]
  },
  {
   "cell_type": "code",
   "execution_count": 3,
   "id": "fd67a508",
   "metadata": {},
   "outputs": [
    {
     "data": {
      "text/html": [
       "<div>\n",
       "<style scoped>\n",
       "    .dataframe tbody tr th:only-of-type {\n",
       "        vertical-align: middle;\n",
       "    }\n",
       "\n",
       "    .dataframe tbody tr th {\n",
       "        vertical-align: top;\n",
       "    }\n",
       "\n",
       "    .dataframe thead th {\n",
       "        text-align: right;\n",
       "    }\n",
       "</style>\n",
       "<table border=\"1\" class=\"dataframe\">\n",
       "  <thead>\n",
       "    <tr style=\"text-align: right;\">\n",
       "      <th></th>\n",
       "      <th>Id</th>\n",
       "      <th>LotArea</th>\n",
       "      <th>OverallQual</th>\n",
       "      <th>1stFlrSF</th>\n",
       "      <th>GrLivArea</th>\n",
       "      <th>TotRmsAbvGrd</th>\n",
       "      <th>GarageCars</th>\n",
       "      <th>GarageArea</th>\n",
       "      <th>SalePrice</th>\n",
       "    </tr>\n",
       "  </thead>\n",
       "  <tbody>\n",
       "    <tr>\n",
       "      <th>0</th>\n",
       "      <td>1</td>\n",
       "      <td>8450</td>\n",
       "      <td>7</td>\n",
       "      <td>856</td>\n",
       "      <td>1710</td>\n",
       "      <td>8</td>\n",
       "      <td>2</td>\n",
       "      <td>548</td>\n",
       "      <td>208500</td>\n",
       "    </tr>\n",
       "    <tr>\n",
       "      <th>1</th>\n",
       "      <td>2</td>\n",
       "      <td>9600</td>\n",
       "      <td>6</td>\n",
       "      <td>1262</td>\n",
       "      <td>1262</td>\n",
       "      <td>6</td>\n",
       "      <td>2</td>\n",
       "      <td>460</td>\n",
       "      <td>181500</td>\n",
       "    </tr>\n",
       "    <tr>\n",
       "      <th>2</th>\n",
       "      <td>3</td>\n",
       "      <td>11250</td>\n",
       "      <td>7</td>\n",
       "      <td>920</td>\n",
       "      <td>1786</td>\n",
       "      <td>6</td>\n",
       "      <td>2</td>\n",
       "      <td>608</td>\n",
       "      <td>223500</td>\n",
       "    </tr>\n",
       "    <tr>\n",
       "      <th>3</th>\n",
       "      <td>4</td>\n",
       "      <td>9550</td>\n",
       "      <td>7</td>\n",
       "      <td>961</td>\n",
       "      <td>1717</td>\n",
       "      <td>7</td>\n",
       "      <td>3</td>\n",
       "      <td>642</td>\n",
       "      <td>140000</td>\n",
       "    </tr>\n",
       "    <tr>\n",
       "      <th>4</th>\n",
       "      <td>5</td>\n",
       "      <td>14260</td>\n",
       "      <td>8</td>\n",
       "      <td>1145</td>\n",
       "      <td>2198</td>\n",
       "      <td>9</td>\n",
       "      <td>3</td>\n",
       "      <td>836</td>\n",
       "      <td>250000</td>\n",
       "    </tr>\n",
       "    <tr>\n",
       "      <th>...</th>\n",
       "      <td>...</td>\n",
       "      <td>...</td>\n",
       "      <td>...</td>\n",
       "      <td>...</td>\n",
       "      <td>...</td>\n",
       "      <td>...</td>\n",
       "      <td>...</td>\n",
       "      <td>...</td>\n",
       "      <td>...</td>\n",
       "    </tr>\n",
       "    <tr>\n",
       "      <th>1455</th>\n",
       "      <td>1456</td>\n",
       "      <td>7917</td>\n",
       "      <td>6</td>\n",
       "      <td>953</td>\n",
       "      <td>1647</td>\n",
       "      <td>7</td>\n",
       "      <td>2</td>\n",
       "      <td>460</td>\n",
       "      <td>175000</td>\n",
       "    </tr>\n",
       "    <tr>\n",
       "      <th>1456</th>\n",
       "      <td>1457</td>\n",
       "      <td>13175</td>\n",
       "      <td>6</td>\n",
       "      <td>2073</td>\n",
       "      <td>2073</td>\n",
       "      <td>7</td>\n",
       "      <td>2</td>\n",
       "      <td>500</td>\n",
       "      <td>210000</td>\n",
       "    </tr>\n",
       "    <tr>\n",
       "      <th>1457</th>\n",
       "      <td>1458</td>\n",
       "      <td>9042</td>\n",
       "      <td>7</td>\n",
       "      <td>1188</td>\n",
       "      <td>2340</td>\n",
       "      <td>9</td>\n",
       "      <td>1</td>\n",
       "      <td>252</td>\n",
       "      <td>266500</td>\n",
       "    </tr>\n",
       "    <tr>\n",
       "      <th>1458</th>\n",
       "      <td>1459</td>\n",
       "      <td>9717</td>\n",
       "      <td>5</td>\n",
       "      <td>1078</td>\n",
       "      <td>1078</td>\n",
       "      <td>5</td>\n",
       "      <td>1</td>\n",
       "      <td>240</td>\n",
       "      <td>142125</td>\n",
       "    </tr>\n",
       "    <tr>\n",
       "      <th>1459</th>\n",
       "      <td>1460</td>\n",
       "      <td>9937</td>\n",
       "      <td>5</td>\n",
       "      <td>1256</td>\n",
       "      <td>1256</td>\n",
       "      <td>6</td>\n",
       "      <td>1</td>\n",
       "      <td>276</td>\n",
       "      <td>147500</td>\n",
       "    </tr>\n",
       "  </tbody>\n",
       "</table>\n",
       "<p>1460 rows × 9 columns</p>\n",
       "</div>"
      ],
      "text/plain": [
       "        Id  LotArea  OverallQual  1stFlrSF  GrLivArea  TotRmsAbvGrd  \\\n",
       "0        1     8450            7       856       1710             8   \n",
       "1        2     9600            6      1262       1262             6   \n",
       "2        3    11250            7       920       1786             6   \n",
       "3        4     9550            7       961       1717             7   \n",
       "4        5    14260            8      1145       2198             9   \n",
       "...    ...      ...          ...       ...        ...           ...   \n",
       "1455  1456     7917            6       953       1647             7   \n",
       "1456  1457    13175            6      2073       2073             7   \n",
       "1457  1458     9042            7      1188       2340             9   \n",
       "1458  1459     9717            5      1078       1078             5   \n",
       "1459  1460     9937            5      1256       1256             6   \n",
       "\n",
       "      GarageCars  GarageArea  SalePrice  \n",
       "0              2         548     208500  \n",
       "1              2         460     181500  \n",
       "2              2         608     223500  \n",
       "3              3         642     140000  \n",
       "4              3         836     250000  \n",
       "...          ...         ...        ...  \n",
       "1455           2         460     175000  \n",
       "1456           2         500     210000  \n",
       "1457           1         252     266500  \n",
       "1458           1         240     142125  \n",
       "1459           1         276     147500  \n",
       "\n",
       "[1460 rows x 9 columns]"
      ]
     },
     "execution_count": 3,
     "metadata": {},
     "output_type": "execute_result"
    }
   ],
   "source": [
    "data"
   ]
  },
  {
   "cell_type": "code",
   "execution_count": 4,
   "id": "ca8ebd3d",
   "metadata": {},
   "outputs": [
    {
     "data": {
      "text/html": [
       "<div>\n",
       "<style scoped>\n",
       "    .dataframe tbody tr th:only-of-type {\n",
       "        vertical-align: middle;\n",
       "    }\n",
       "\n",
       "    .dataframe tbody tr th {\n",
       "        vertical-align: top;\n",
       "    }\n",
       "\n",
       "    .dataframe thead th {\n",
       "        text-align: right;\n",
       "    }\n",
       "</style>\n",
       "<table border=\"1\" class=\"dataframe\">\n",
       "  <thead>\n",
       "    <tr style=\"text-align: right;\">\n",
       "      <th></th>\n",
       "      <th>Id</th>\n",
       "      <th>LotArea</th>\n",
       "      <th>OverallQual</th>\n",
       "      <th>1stFlrSF</th>\n",
       "      <th>GrLivArea</th>\n",
       "      <th>TotRmsAbvGrd</th>\n",
       "      <th>GarageCars</th>\n",
       "      <th>GarageArea</th>\n",
       "      <th>SalePrice</th>\n",
       "    </tr>\n",
       "  </thead>\n",
       "  <tbody>\n",
       "    <tr>\n",
       "      <th>count</th>\n",
       "      <td>1460.000000</td>\n",
       "      <td>1460.000000</td>\n",
       "      <td>1460.000000</td>\n",
       "      <td>1460.000000</td>\n",
       "      <td>1460.000000</td>\n",
       "      <td>1460.000000</td>\n",
       "      <td>1460.000000</td>\n",
       "      <td>1460.000000</td>\n",
       "      <td>1460.000000</td>\n",
       "    </tr>\n",
       "    <tr>\n",
       "      <th>mean</th>\n",
       "      <td>730.500000</td>\n",
       "      <td>10516.828082</td>\n",
       "      <td>6.099315</td>\n",
       "      <td>1162.626712</td>\n",
       "      <td>1515.463699</td>\n",
       "      <td>6.517808</td>\n",
       "      <td>1.767123</td>\n",
       "      <td>472.980137</td>\n",
       "      <td>180921.195890</td>\n",
       "    </tr>\n",
       "    <tr>\n",
       "      <th>std</th>\n",
       "      <td>421.610009</td>\n",
       "      <td>9981.264932</td>\n",
       "      <td>1.382997</td>\n",
       "      <td>386.587738</td>\n",
       "      <td>525.480383</td>\n",
       "      <td>1.625393</td>\n",
       "      <td>0.747315</td>\n",
       "      <td>213.804841</td>\n",
       "      <td>79442.502883</td>\n",
       "    </tr>\n",
       "    <tr>\n",
       "      <th>min</th>\n",
       "      <td>1.000000</td>\n",
       "      <td>1300.000000</td>\n",
       "      <td>1.000000</td>\n",
       "      <td>334.000000</td>\n",
       "      <td>334.000000</td>\n",
       "      <td>2.000000</td>\n",
       "      <td>0.000000</td>\n",
       "      <td>0.000000</td>\n",
       "      <td>34900.000000</td>\n",
       "    </tr>\n",
       "    <tr>\n",
       "      <th>25%</th>\n",
       "      <td>365.750000</td>\n",
       "      <td>7553.500000</td>\n",
       "      <td>5.000000</td>\n",
       "      <td>882.000000</td>\n",
       "      <td>1129.500000</td>\n",
       "      <td>5.000000</td>\n",
       "      <td>1.000000</td>\n",
       "      <td>334.500000</td>\n",
       "      <td>129975.000000</td>\n",
       "    </tr>\n",
       "    <tr>\n",
       "      <th>50%</th>\n",
       "      <td>730.500000</td>\n",
       "      <td>9478.500000</td>\n",
       "      <td>6.000000</td>\n",
       "      <td>1087.000000</td>\n",
       "      <td>1464.000000</td>\n",
       "      <td>6.000000</td>\n",
       "      <td>2.000000</td>\n",
       "      <td>480.000000</td>\n",
       "      <td>163000.000000</td>\n",
       "    </tr>\n",
       "    <tr>\n",
       "      <th>75%</th>\n",
       "      <td>1095.250000</td>\n",
       "      <td>11601.500000</td>\n",
       "      <td>7.000000</td>\n",
       "      <td>1391.250000</td>\n",
       "      <td>1776.750000</td>\n",
       "      <td>7.000000</td>\n",
       "      <td>2.000000</td>\n",
       "      <td>576.000000</td>\n",
       "      <td>214000.000000</td>\n",
       "    </tr>\n",
       "    <tr>\n",
       "      <th>max</th>\n",
       "      <td>1460.000000</td>\n",
       "      <td>215245.000000</td>\n",
       "      <td>10.000000</td>\n",
       "      <td>4692.000000</td>\n",
       "      <td>5642.000000</td>\n",
       "      <td>14.000000</td>\n",
       "      <td>4.000000</td>\n",
       "      <td>1418.000000</td>\n",
       "      <td>755000.000000</td>\n",
       "    </tr>\n",
       "  </tbody>\n",
       "</table>\n",
       "</div>"
      ],
      "text/plain": [
       "                Id        LotArea  OverallQual     1stFlrSF    GrLivArea  \\\n",
       "count  1460.000000    1460.000000  1460.000000  1460.000000  1460.000000   \n",
       "mean    730.500000   10516.828082     6.099315  1162.626712  1515.463699   \n",
       "std     421.610009    9981.264932     1.382997   386.587738   525.480383   \n",
       "min       1.000000    1300.000000     1.000000   334.000000   334.000000   \n",
       "25%     365.750000    7553.500000     5.000000   882.000000  1129.500000   \n",
       "50%     730.500000    9478.500000     6.000000  1087.000000  1464.000000   \n",
       "75%    1095.250000   11601.500000     7.000000  1391.250000  1776.750000   \n",
       "max    1460.000000  215245.000000    10.000000  4692.000000  5642.000000   \n",
       "\n",
       "       TotRmsAbvGrd   GarageCars   GarageArea      SalePrice  \n",
       "count   1460.000000  1460.000000  1460.000000    1460.000000  \n",
       "mean       6.517808     1.767123   472.980137  180921.195890  \n",
       "std        1.625393     0.747315   213.804841   79442.502883  \n",
       "min        2.000000     0.000000     0.000000   34900.000000  \n",
       "25%        5.000000     1.000000   334.500000  129975.000000  \n",
       "50%        6.000000     2.000000   480.000000  163000.000000  \n",
       "75%        7.000000     2.000000   576.000000  214000.000000  \n",
       "max       14.000000     4.000000  1418.000000  755000.000000  "
      ]
     },
     "execution_count": 4,
     "metadata": {},
     "output_type": "execute_result"
    }
   ],
   "source": [
    "data.describe()"
   ]
  },
  {
   "cell_type": "code",
   "execution_count": 5,
   "id": "657c765d",
   "metadata": {},
   "outputs": [
    {
     "name": "stdout",
     "output_type": "stream",
     "text": [
      "<class 'pandas.core.frame.DataFrame'>\n",
      "RangeIndex: 1460 entries, 0 to 1459\n",
      "Data columns (total 9 columns):\n",
      " #   Column        Non-Null Count  Dtype\n",
      "---  ------        --------------  -----\n",
      " 0   Id            1460 non-null   int64\n",
      " 1   LotArea       1460 non-null   int64\n",
      " 2   OverallQual   1460 non-null   int64\n",
      " 3   1stFlrSF      1460 non-null   int64\n",
      " 4   GrLivArea     1460 non-null   int64\n",
      " 5   TotRmsAbvGrd  1460 non-null   int64\n",
      " 6   GarageCars    1460 non-null   int64\n",
      " 7   GarageArea    1460 non-null   int64\n",
      " 8   SalePrice     1460 non-null   int64\n",
      "dtypes: int64(9)\n",
      "memory usage: 102.8 KB\n"
     ]
    }
   ],
   "source": [
    "data.info()"
   ]
  },
  {
   "cell_type": "code",
   "execution_count": 6,
   "id": "f49e5ee4",
   "metadata": {},
   "outputs": [
    {
     "data": {
      "text/plain": [
       "Id              0\n",
       "LotArea         0\n",
       "OverallQual     0\n",
       "1stFlrSF        0\n",
       "GrLivArea       0\n",
       "TotRmsAbvGrd    0\n",
       "GarageCars      0\n",
       "GarageArea      0\n",
       "SalePrice       0\n",
       "dtype: int64"
      ]
     },
     "execution_count": 6,
     "metadata": {},
     "output_type": "execute_result"
    }
   ],
   "source": [
    "data.isna().sum()"
   ]
  },
  {
   "cell_type": "code",
   "execution_count": 7,
   "id": "bc85dea7",
   "metadata": {},
   "outputs": [],
   "source": [
    "data.drop('Id',axis=1,inplace=True)"
   ]
  },
  {
   "cell_type": "code",
   "execution_count": 8,
   "id": "193963c0",
   "metadata": {},
   "outputs": [
    {
     "data": {
      "text/html": [
       "<div>\n",
       "<style scoped>\n",
       "    .dataframe tbody tr th:only-of-type {\n",
       "        vertical-align: middle;\n",
       "    }\n",
       "\n",
       "    .dataframe tbody tr th {\n",
       "        vertical-align: top;\n",
       "    }\n",
       "\n",
       "    .dataframe thead th {\n",
       "        text-align: right;\n",
       "    }\n",
       "</style>\n",
       "<table border=\"1\" class=\"dataframe\">\n",
       "  <thead>\n",
       "    <tr style=\"text-align: right;\">\n",
       "      <th></th>\n",
       "      <th>LotArea</th>\n",
       "      <th>OverallQual</th>\n",
       "      <th>1stFlrSF</th>\n",
       "      <th>GrLivArea</th>\n",
       "      <th>TotRmsAbvGrd</th>\n",
       "      <th>GarageCars</th>\n",
       "      <th>GarageArea</th>\n",
       "      <th>SalePrice</th>\n",
       "    </tr>\n",
       "  </thead>\n",
       "  <tbody>\n",
       "    <tr>\n",
       "      <th>0</th>\n",
       "      <td>8450</td>\n",
       "      <td>7</td>\n",
       "      <td>856</td>\n",
       "      <td>1710</td>\n",
       "      <td>8</td>\n",
       "      <td>2</td>\n",
       "      <td>548</td>\n",
       "      <td>208500</td>\n",
       "    </tr>\n",
       "    <tr>\n",
       "      <th>1</th>\n",
       "      <td>9600</td>\n",
       "      <td>6</td>\n",
       "      <td>1262</td>\n",
       "      <td>1262</td>\n",
       "      <td>6</td>\n",
       "      <td>2</td>\n",
       "      <td>460</td>\n",
       "      <td>181500</td>\n",
       "    </tr>\n",
       "    <tr>\n",
       "      <th>2</th>\n",
       "      <td>11250</td>\n",
       "      <td>7</td>\n",
       "      <td>920</td>\n",
       "      <td>1786</td>\n",
       "      <td>6</td>\n",
       "      <td>2</td>\n",
       "      <td>608</td>\n",
       "      <td>223500</td>\n",
       "    </tr>\n",
       "    <tr>\n",
       "      <th>3</th>\n",
       "      <td>9550</td>\n",
       "      <td>7</td>\n",
       "      <td>961</td>\n",
       "      <td>1717</td>\n",
       "      <td>7</td>\n",
       "      <td>3</td>\n",
       "      <td>642</td>\n",
       "      <td>140000</td>\n",
       "    </tr>\n",
       "    <tr>\n",
       "      <th>4</th>\n",
       "      <td>14260</td>\n",
       "      <td>8</td>\n",
       "      <td>1145</td>\n",
       "      <td>2198</td>\n",
       "      <td>9</td>\n",
       "      <td>3</td>\n",
       "      <td>836</td>\n",
       "      <td>250000</td>\n",
       "    </tr>\n",
       "    <tr>\n",
       "      <th>...</th>\n",
       "      <td>...</td>\n",
       "      <td>...</td>\n",
       "      <td>...</td>\n",
       "      <td>...</td>\n",
       "      <td>...</td>\n",
       "      <td>...</td>\n",
       "      <td>...</td>\n",
       "      <td>...</td>\n",
       "    </tr>\n",
       "    <tr>\n",
       "      <th>1455</th>\n",
       "      <td>7917</td>\n",
       "      <td>6</td>\n",
       "      <td>953</td>\n",
       "      <td>1647</td>\n",
       "      <td>7</td>\n",
       "      <td>2</td>\n",
       "      <td>460</td>\n",
       "      <td>175000</td>\n",
       "    </tr>\n",
       "    <tr>\n",
       "      <th>1456</th>\n",
       "      <td>13175</td>\n",
       "      <td>6</td>\n",
       "      <td>2073</td>\n",
       "      <td>2073</td>\n",
       "      <td>7</td>\n",
       "      <td>2</td>\n",
       "      <td>500</td>\n",
       "      <td>210000</td>\n",
       "    </tr>\n",
       "    <tr>\n",
       "      <th>1457</th>\n",
       "      <td>9042</td>\n",
       "      <td>7</td>\n",
       "      <td>1188</td>\n",
       "      <td>2340</td>\n",
       "      <td>9</td>\n",
       "      <td>1</td>\n",
       "      <td>252</td>\n",
       "      <td>266500</td>\n",
       "    </tr>\n",
       "    <tr>\n",
       "      <th>1458</th>\n",
       "      <td>9717</td>\n",
       "      <td>5</td>\n",
       "      <td>1078</td>\n",
       "      <td>1078</td>\n",
       "      <td>5</td>\n",
       "      <td>1</td>\n",
       "      <td>240</td>\n",
       "      <td>142125</td>\n",
       "    </tr>\n",
       "    <tr>\n",
       "      <th>1459</th>\n",
       "      <td>9937</td>\n",
       "      <td>5</td>\n",
       "      <td>1256</td>\n",
       "      <td>1256</td>\n",
       "      <td>6</td>\n",
       "      <td>1</td>\n",
       "      <td>276</td>\n",
       "      <td>147500</td>\n",
       "    </tr>\n",
       "  </tbody>\n",
       "</table>\n",
       "<p>1460 rows × 8 columns</p>\n",
       "</div>"
      ],
      "text/plain": [
       "      LotArea  OverallQual  1stFlrSF  GrLivArea  TotRmsAbvGrd  GarageCars  \\\n",
       "0        8450            7       856       1710             8           2   \n",
       "1        9600            6      1262       1262             6           2   \n",
       "2       11250            7       920       1786             6           2   \n",
       "3        9550            7       961       1717             7           3   \n",
       "4       14260            8      1145       2198             9           3   \n",
       "...       ...          ...       ...        ...           ...         ...   \n",
       "1455     7917            6       953       1647             7           2   \n",
       "1456    13175            6      2073       2073             7           2   \n",
       "1457     9042            7      1188       2340             9           1   \n",
       "1458     9717            5      1078       1078             5           1   \n",
       "1459     9937            5      1256       1256             6           1   \n",
       "\n",
       "      GarageArea  SalePrice  \n",
       "0            548     208500  \n",
       "1            460     181500  \n",
       "2            608     223500  \n",
       "3            642     140000  \n",
       "4            836     250000  \n",
       "...          ...        ...  \n",
       "1455         460     175000  \n",
       "1456         500     210000  \n",
       "1457         252     266500  \n",
       "1458         240     142125  \n",
       "1459         276     147500  \n",
       "\n",
       "[1460 rows x 8 columns]"
      ]
     },
     "execution_count": 8,
     "metadata": {},
     "output_type": "execute_result"
    }
   ],
   "source": [
    "data"
   ]
  },
  {
   "cell_type": "code",
   "execution_count": 9,
   "id": "eeda60f7",
   "metadata": {},
   "outputs": [],
   "source": [
    "data.insert(0,'x0',1)"
   ]
  },
  {
   "cell_type": "code",
   "execution_count": 10,
   "id": "99dfca53",
   "metadata": {},
   "outputs": [
    {
     "data": {
      "text/html": [
       "<div>\n",
       "<style scoped>\n",
       "    .dataframe tbody tr th:only-of-type {\n",
       "        vertical-align: middle;\n",
       "    }\n",
       "\n",
       "    .dataframe tbody tr th {\n",
       "        vertical-align: top;\n",
       "    }\n",
       "\n",
       "    .dataframe thead th {\n",
       "        text-align: right;\n",
       "    }\n",
       "</style>\n",
       "<table border=\"1\" class=\"dataframe\">\n",
       "  <thead>\n",
       "    <tr style=\"text-align: right;\">\n",
       "      <th></th>\n",
       "      <th>x0</th>\n",
       "      <th>LotArea</th>\n",
       "      <th>OverallQual</th>\n",
       "      <th>1stFlrSF</th>\n",
       "      <th>GrLivArea</th>\n",
       "      <th>TotRmsAbvGrd</th>\n",
       "      <th>GarageCars</th>\n",
       "      <th>GarageArea</th>\n",
       "      <th>SalePrice</th>\n",
       "    </tr>\n",
       "  </thead>\n",
       "  <tbody>\n",
       "    <tr>\n",
       "      <th>0</th>\n",
       "      <td>1</td>\n",
       "      <td>8450</td>\n",
       "      <td>7</td>\n",
       "      <td>856</td>\n",
       "      <td>1710</td>\n",
       "      <td>8</td>\n",
       "      <td>2</td>\n",
       "      <td>548</td>\n",
       "      <td>208500</td>\n",
       "    </tr>\n",
       "    <tr>\n",
       "      <th>1</th>\n",
       "      <td>1</td>\n",
       "      <td>9600</td>\n",
       "      <td>6</td>\n",
       "      <td>1262</td>\n",
       "      <td>1262</td>\n",
       "      <td>6</td>\n",
       "      <td>2</td>\n",
       "      <td>460</td>\n",
       "      <td>181500</td>\n",
       "    </tr>\n",
       "    <tr>\n",
       "      <th>2</th>\n",
       "      <td>1</td>\n",
       "      <td>11250</td>\n",
       "      <td>7</td>\n",
       "      <td>920</td>\n",
       "      <td>1786</td>\n",
       "      <td>6</td>\n",
       "      <td>2</td>\n",
       "      <td>608</td>\n",
       "      <td>223500</td>\n",
       "    </tr>\n",
       "    <tr>\n",
       "      <th>3</th>\n",
       "      <td>1</td>\n",
       "      <td>9550</td>\n",
       "      <td>7</td>\n",
       "      <td>961</td>\n",
       "      <td>1717</td>\n",
       "      <td>7</td>\n",
       "      <td>3</td>\n",
       "      <td>642</td>\n",
       "      <td>140000</td>\n",
       "    </tr>\n",
       "    <tr>\n",
       "      <th>4</th>\n",
       "      <td>1</td>\n",
       "      <td>14260</td>\n",
       "      <td>8</td>\n",
       "      <td>1145</td>\n",
       "      <td>2198</td>\n",
       "      <td>9</td>\n",
       "      <td>3</td>\n",
       "      <td>836</td>\n",
       "      <td>250000</td>\n",
       "    </tr>\n",
       "    <tr>\n",
       "      <th>...</th>\n",
       "      <td>...</td>\n",
       "      <td>...</td>\n",
       "      <td>...</td>\n",
       "      <td>...</td>\n",
       "      <td>...</td>\n",
       "      <td>...</td>\n",
       "      <td>...</td>\n",
       "      <td>...</td>\n",
       "      <td>...</td>\n",
       "    </tr>\n",
       "    <tr>\n",
       "      <th>1455</th>\n",
       "      <td>1</td>\n",
       "      <td>7917</td>\n",
       "      <td>6</td>\n",
       "      <td>953</td>\n",
       "      <td>1647</td>\n",
       "      <td>7</td>\n",
       "      <td>2</td>\n",
       "      <td>460</td>\n",
       "      <td>175000</td>\n",
       "    </tr>\n",
       "    <tr>\n",
       "      <th>1456</th>\n",
       "      <td>1</td>\n",
       "      <td>13175</td>\n",
       "      <td>6</td>\n",
       "      <td>2073</td>\n",
       "      <td>2073</td>\n",
       "      <td>7</td>\n",
       "      <td>2</td>\n",
       "      <td>500</td>\n",
       "      <td>210000</td>\n",
       "    </tr>\n",
       "    <tr>\n",
       "      <th>1457</th>\n",
       "      <td>1</td>\n",
       "      <td>9042</td>\n",
       "      <td>7</td>\n",
       "      <td>1188</td>\n",
       "      <td>2340</td>\n",
       "      <td>9</td>\n",
       "      <td>1</td>\n",
       "      <td>252</td>\n",
       "      <td>266500</td>\n",
       "    </tr>\n",
       "    <tr>\n",
       "      <th>1458</th>\n",
       "      <td>1</td>\n",
       "      <td>9717</td>\n",
       "      <td>5</td>\n",
       "      <td>1078</td>\n",
       "      <td>1078</td>\n",
       "      <td>5</td>\n",
       "      <td>1</td>\n",
       "      <td>240</td>\n",
       "      <td>142125</td>\n",
       "    </tr>\n",
       "    <tr>\n",
       "      <th>1459</th>\n",
       "      <td>1</td>\n",
       "      <td>9937</td>\n",
       "      <td>5</td>\n",
       "      <td>1256</td>\n",
       "      <td>1256</td>\n",
       "      <td>6</td>\n",
       "      <td>1</td>\n",
       "      <td>276</td>\n",
       "      <td>147500</td>\n",
       "    </tr>\n",
       "  </tbody>\n",
       "</table>\n",
       "<p>1460 rows × 9 columns</p>\n",
       "</div>"
      ],
      "text/plain": [
       "      x0  LotArea  OverallQual  1stFlrSF  GrLivArea  TotRmsAbvGrd  GarageCars  \\\n",
       "0      1     8450            7       856       1710             8           2   \n",
       "1      1     9600            6      1262       1262             6           2   \n",
       "2      1    11250            7       920       1786             6           2   \n",
       "3      1     9550            7       961       1717             7           3   \n",
       "4      1    14260            8      1145       2198             9           3   \n",
       "...   ..      ...          ...       ...        ...           ...         ...   \n",
       "1455   1     7917            6       953       1647             7           2   \n",
       "1456   1    13175            6      2073       2073             7           2   \n",
       "1457   1     9042            7      1188       2340             9           1   \n",
       "1458   1     9717            5      1078       1078             5           1   \n",
       "1459   1     9937            5      1256       1256             6           1   \n",
       "\n",
       "      GarageArea  SalePrice  \n",
       "0            548     208500  \n",
       "1            460     181500  \n",
       "2            608     223500  \n",
       "3            642     140000  \n",
       "4            836     250000  \n",
       "...          ...        ...  \n",
       "1455         460     175000  \n",
       "1456         500     210000  \n",
       "1457         252     266500  \n",
       "1458         240     142125  \n",
       "1459         276     147500  \n",
       "\n",
       "[1460 rows x 9 columns]"
      ]
     },
     "execution_count": 10,
     "metadata": {},
     "output_type": "execute_result"
    }
   ],
   "source": [
    "data"
   ]
  },
  {
   "cell_type": "code",
   "execution_count": null,
   "id": "5b59ee2c",
   "metadata": {},
   "outputs": [],
   "source": []
  },
  {
   "cell_type": "code",
   "execution_count": 11,
   "id": "ae617971",
   "metadata": {},
   "outputs": [],
   "source": [
    "x=data.iloc[:,[i for i in range(8)]].values\n",
    "y=data['SalePrice'].values      ## spliting in features and target"
   ]
  },
  {
   "cell_type": "code",
   "execution_count": 12,
   "id": "d29bc2bb",
   "metadata": {},
   "outputs": [
    {
     "name": "stdout",
     "output_type": "stream",
     "text": [
      "(1460, 8)\n",
      "[208500 181500 223500 ... 266500 142125 147500]\n"
     ]
    }
   ],
   "source": [
    "print(x.shape)\n",
    "print(y)"
   ]
  },
  {
   "cell_type": "code",
   "execution_count": 13,
   "id": "7de2a1a7",
   "metadata": {},
   "outputs": [],
   "source": [
    "# spliting into traing and test data\n",
    "x_train,x_test=x[:1000],x[1000:]\n",
    "y_train,y_test=y[:1000],y[1000:]"
   ]
  },
  {
   "cell_type": "code",
   "execution_count": 14,
   "id": "544f52fa",
   "metadata": {},
   "outputs": [
    {
     "name": "stdout",
     "output_type": "stream",
     "text": [
      "[[    1  8450     7 ...     8     2   548]\n",
      " [    1  9600     6 ...     6     2   460]\n",
      " [    1 11250     7 ...     6     2   608]\n",
      " ...\n",
      " [    1  9042     7 ...     9     1   252]\n",
      " [    1  9717     5 ...     5     1   240]\n",
      " [    1  9937     5 ...     6     1   276]] [208500 181500 223500 ... 266500 142125 147500]\n",
      "1000 460 1000 460\n"
     ]
    }
   ],
   "source": [
    "print(x,y)\n",
    "print(len(x_train),len(x_test),len(y_train),len(y_test))"
   ]
  },
  {
   "cell_type": "code",
   "execution_count": 15,
   "id": "712c9d49",
   "metadata": {},
   "outputs": [
    {
     "data": {
      "text/plain": [
       "array([0., 0., 0., 0., 0., 0., 0., 0.])"
      ]
     },
     "execution_count": 15,
     "metadata": {},
     "output_type": "execute_result"
    }
   ],
   "source": [
    "theta_val=np.zeros(8) # Since there are 7 features\n",
    "theta_val"
   ]
  },
  {
   "cell_type": "markdown",
   "id": "597a5b83",
   "metadata": {},
   "source": [
    "## Using Gradient Descent"
   ]
  },
  {
   "cell_type": "code",
   "execution_count": 16,
   "id": "370653cd",
   "metadata": {},
   "outputs": [],
   "source": [
    "import time\n",
    "start=time.time()\n",
    "# Gradient descent algorithm\n",
    "iteration=1000        #5000\n",
    "alpha=0.000000004           #0.000000004\n",
    "\n",
    "error_list=[]\n",
    "temp_val=np.ones(8)\n",
    "for i in range(iteration):\n",
    "    for j in range(8):\n",
    "        s=(np.inner((y_train-np.dot(x_train,theta_val.transpose())),x_train[:,j]))\n",
    "        temp_val[j]=theta_val[j]+(alpha/1000)*s\n",
    "    theta_val=temp_val.copy()\n",
    "    err=np.sqrt(sum(np.square(y_train-np.dot(x_train,theta_val.transpose())))/8)\n",
    "#     print(err) # 208500\n",
    "    error_list.append(err)\n",
    "end=time.time()\n",
    "# print(theta_val)\n",
    "# print(np.dot(x_train[1,:],theta_val.transpose()))"
   ]
  },
  {
   "cell_type": "code",
   "execution_count": 17,
   "id": "83071c62",
   "metadata": {},
   "outputs": [
    {
     "data": {
      "image/png": "[encoded data removed]",
      "text/plain": [
       "<Figure size 1080x576 with 1 Axes>"
      ]
     },
     "metadata": {
      "needs_background": "light"
     },
     "output_type": "display_data"
    }
   ],
   "source": [
    "ite=[i for i in range(iteration)]\n",
    "plt.figure(figsize=(15,8))\n",
    "plt.scatter(ite,error_list)\n",
    "plt.xlabel('iteration')\n",
    "plt.ylabel('error')\n",
    "plt.show()"
   ]
  },
  {
   "cell_type": "code",
   "execution_count": 18,
   "id": "ccc2f99d",
   "metadata": {},
   "outputs": [
    {
     "name": "stdout",
     "output_type": "stream",
     "text": [
      "[3.18032414e-02 3.42574837e-01 3.69039581e-01 5.05939382e+01\n",
      " 7.13164535e+01 2.56663860e-01 1.21403176e-01 3.22592645e+01]\n"
     ]
    }
   ],
   "source": [
    "print(theta_val)"
   ]
  },
  {
   "cell_type": "code",
   "execution_count": 19,
   "id": "6f27a5d3",
   "metadata": {},
   "outputs": [
    {
     "name": "stdout",
     "output_type": "stream",
     "text": [
      "run time is 0.29900169372558594\n"
     ]
    }
   ],
   "source": [
    "print('run time is', end-start)"
   ]
  },
  {
   "cell_type": "markdown",
   "id": "6b76f7b3",
   "metadata": {},
   "source": [
    "root mean square error for test data set"
   ]
  },
  {
   "cell_type": "code",
   "execution_count": 20,
   "id": "05d1b293",
   "metadata": {},
   "outputs": [
    {
     "data": {
      "text/plain": [
       "420800.1561067846"
      ]
     },
     "execution_count": 20,
     "metadata": {},
     "output_type": "execute_result"
    }
   ],
   "source": [
    "test_error=np.sqrt(sum(np.square(y_test-np.dot(x_test,theta_val.transpose())))/8)\n",
    "test_error"
   ]
  },
  {
   "cell_type": "code",
   "execution_count": 21,
   "id": "cf27e890",
   "metadata": {},
   "outputs": [
    {
     "name": "stdout",
     "output_type": "stream",
     "text": [
      "0.6371748219888815\n",
      "0.48707642028089915\n"
     ]
    }
   ],
   "source": [
    "from sklearn.metrics import r2_score\n",
    "print(r2_score(y_train,np.dot(x_train,temp_val.transpose()))) #r2_score using sklearn\n",
    "print(r2_score(y_test,np.dot(x_test,temp_val.transpose())))"
   ]
  },
  {
   "cell_type": "markdown",
   "id": "fac9ade7",
   "metadata": {},
   "source": [
    "r2_score coding part"
   ]
  },
  {
   "cell_type": "code",
   "execution_count": 22,
   "id": "c195c9c3",
   "metadata": {},
   "outputs": [
    {
     "name": "stdout",
     "output_type": "stream",
     "text": [
      "182284.451 177957.59782608695\n"
     ]
    }
   ],
   "source": [
    "# r2_score coding\n",
    "y_train_mean=sum(y_train)/1000\n",
    "y_test_mean=sum(y_test)/460\n",
    "print(y_train_mean,y_test_mean)"
   ]
  },
  {
   "cell_type": "code",
   "execution_count": 23,
   "id": "4d5483a0",
   "metadata": {},
   "outputs": [
    {
     "name": "stdout",
     "output_type": "stream",
     "text": [
      "0.6371748219888791\n",
      "this is same as sklearn.metric\n"
     ]
    }
   ],
   "source": [
    "r2_sc_y_train=1-((sum(np.square(y_train-np.dot(x_train,theta_val.transpose()))))/(sum(np.square(y_train-y_train_mean*np.ones(1000)))))\n",
    "print(r2_sc_y_train)\n",
    "print('this is same as sklearn.metric')"
   ]
  },
  {
   "cell_type": "code",
   "execution_count": 24,
   "id": "65d45e71",
   "metadata": {},
   "outputs": [
    {
     "name": "stdout",
     "output_type": "stream",
     "text": [
      "0.4870764202808987\n"
     ]
    }
   ],
   "source": [
    "r2_sc_y_test=1-((sum(np.square(y_test-np.dot(x_test,theta_val.transpose()))))/(sum(np.square(y_test-y_test_mean*np.ones(460)))))\n",
    "print(r2_sc_y_test)"
   ]
  },
  {
   "cell_type": "markdown",
   "id": "387086f0",
   "metadata": {},
   "source": [
    "## Using Normal Equation"
   ]
  },
  {
   "cell_type": "code",
   "execution_count": 25,
   "id": "6f102d4c",
   "metadata": {},
   "outputs": [],
   "source": [
    "import time\n",
    "normal_start=time.time()\n",
    "first_multiplication=np.dot(x_train.transpose(),x_train)\n",
    "second_multiplication=np.dot(x_train.transpose(),y_train)\n",
    "theta_val_from_normal=np.dot(np.linalg.inv(first_multiplication),second_multiplication)\n",
    "theta_val_from_normal\n",
    "normal_end=time.time()"
   ]
  },
  {
   "cell_type": "code",
   "execution_count": 26,
   "id": "21cf61c5",
   "metadata": {},
   "outputs": [
    {
     "name": "stdout",
     "output_type": "stream",
     "text": [
      "run time for normal method is 0.0\n"
     ]
    }
   ],
   "source": [
    "print('run time for normal method is',normal_end-normal_start)"
   ]
  },
  {
   "cell_type": "markdown",
   "id": "26e1f2d2",
   "metadata": {},
   "source": [
    "root mean square for test data set"
   ]
  },
  {
   "cell_type": "code",
   "execution_count": 27,
   "id": "d1851395",
   "metadata": {},
   "outputs": [
    {
     "data": {
      "text/plain": [
       "331019.9479319142"
      ]
     },
     "execution_count": 27,
     "metadata": {},
     "output_type": "execute_result"
    }
   ],
   "source": [
    "test_error=np.sqrt(sum(np.square(y_test-np.dot(x_test,theta_val_from_normal.transpose())))/8)\n",
    "test_error"
   ]
  },
  {
   "cell_type": "markdown",
   "id": "90153e72",
   "metadata": {},
   "source": [
    "r2_score for test data set"
   ]
  },
  {
   "cell_type": "code",
   "execution_count": 28,
   "id": "d9e9f7bd",
   "metadata": {},
   "outputs": [
    {
     "data": {
      "text/plain": [
       "0.6825983265973167"
      ]
     },
     "execution_count": 28,
     "metadata": {},
     "output_type": "execute_result"
    }
   ],
   "source": [
    "r2_sc_y_test_normal=1-((sum(np.square(y_test-np.dot(x_test,theta_val_from_normal.transpose()))))/(sum(np.square(y_test-y_test_mean*np.ones(460)))))\n",
    "r2_sc_y_test_normal"
   ]
  },
  {
   "cell_type": "code",
   "execution_count": null,
   "id": "9857f6bd",
   "metadata": {},
   "outputs": [],
   "source": []
  }
 ],
 "metadata": {
  "kernelspec": {
   "display_name": "Python 3",
   "language": "python",
   "name": "python3"
  },
  "language_info": {
   "codemirror_mode": {
    "name": "ipython",
    "version": 3
   },
   "file_extension": ".py",
   "mimetype": "text/x-python",
   "name": "python",
   "nbconvert_exporter": "python",
   "pygments_lexer": "ipython3",
   "version": "3.8.8"
  }
 },
 "nbformat": 4,
 "nbformat_minor": 5
}
